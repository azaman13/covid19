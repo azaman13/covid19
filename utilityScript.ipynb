{
 "cells": [
  {
   "cell_type": "markdown",
   "metadata": {},
   "source": [
    "# Going forward I am going to put all the handy utility scripts here. And you can use this as a reference"
   ]
  },
  {
   "cell_type": "code",
   "execution_count": 12,
   "metadata": {},
   "outputs": [
    {
     "data": {
      "text/plain": [
       "True"
      ]
     },
     "execution_count": 12,
     "metadata": {},
     "output_type": "execute_result"
    }
   ],
   "source": [
    "q1 =  \"coronaviruses NJ\"\n",
    "q2 = \"corona virus in new jersey\"\n",
    "\n",
    "def has_shared_words(q1, q2):\n",
    "    '''\n",
    "    q1: a string\n",
    "    \n",
    "    A poorman's version of comparing if two queries are talking about the same thing.\n",
    "    This is purely based on word match.\n",
    "    '''\n",
    "    q1 = q1.lower()\n",
    "    q2 = q2.lower()\n",
    "    \n",
    "    match = False\n",
    "    # check if any word from q1 is in q2\n",
    "    for word in q1.split():\n",
    "        if word in q2:\n",
    "            match = True\n",
    "    \n",
    "    if match == False:\n",
    "        for word in q2.split():\n",
    "            if word in q1:\n",
    "                match = True\n",
    "    return match\n",
    "\n",
    "has_shared_words(q1, q2)\n"
   ]
  },
  {
   "cell_type": "code",
   "execution_count": null,
   "metadata": {},
   "outputs": [],
   "source": []
  }
 ],
 "metadata": {
  "kernelspec": {
   "display_name": "Python 3",
   "language": "python",
   "name": "python3"
  },
  "language_info": {
   "codemirror_mode": {
    "name": "ipython",
    "version": 3
   },
   "file_extension": ".py",
   "mimetype": "text/x-python",
   "name": "python",
   "nbconvert_exporter": "python",
   "pygments_lexer": "ipython3",
   "version": "3.7.6"
  }
 },
 "nbformat": 4,
 "nbformat_minor": 4
}
