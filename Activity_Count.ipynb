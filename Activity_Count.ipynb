{
 "cells": [
  {
   "cell_type": "code",
   "execution_count": 62,
   "metadata": {},
   "outputs": [],
   "source": [
    "import pandas as pd\n",
    "import numpy as np \n",
    "import matplotlib.pyplot as plt\n",
    "import ast\n",
    "import glob\n",
    "import pickle\n",
    "plt.rcParams.update({'font.size': 18})"
   ]
  },
  {
   "cell_type": "code",
   "execution_count": 63,
   "metadata": {},
   "outputs": [],
   "source": [
    "files = glob.glob('/Users/jane/Desktop/search+youtube/*.csv')"
   ]
  },
  {
   "cell_type": "code",
   "execution_count": 64,
   "metadata": {},
   "outputs": [
    {
     "data": {
      "text/html": [
       "<div>\n",
       "<style scoped>\n",
       "    .dataframe tbody tr th:only-of-type {\n",
       "        vertical-align: middle;\n",
       "    }\n",
       "\n",
       "    .dataframe tbody tr th {\n",
       "        vertical-align: top;\n",
       "    }\n",
       "\n",
       "    .dataframe thead th {\n",
       "        text-align: right;\n",
       "    }\n",
       "</style>\n",
       "<table border=\"1\" class=\"dataframe\">\n",
       "  <thead>\n",
       "    <tr style=\"text-align: right;\">\n",
       "      <th></th>\n",
       "      <th>Unnamed: 0</th>\n",
       "      <th>Unnamed: 0.1</th>\n",
       "      <th>ratings</th>\n",
       "      <th>action</th>\n",
       "      <th>categories</th>\n",
       "      <th>dislikes</th>\n",
       "      <th>likes</th>\n",
       "      <th>durations</th>\n",
       "      <th>view_cnts</th>\n",
       "      <th>years</th>\n",
       "      <th>months</th>\n",
       "      <th>days</th>\n",
       "      <th>hours</th>\n",
       "      <th>minutes</th>\n",
       "      <th>weekdays</th>\n",
       "      <th>link</th>\n",
       "      <th>titles</th>\n",
       "      <th>source</th>\n",
       "      <th>query</th>\n",
       "      <th>datetime</th>\n",
       "    </tr>\n",
       "  </thead>\n",
       "  <tbody>\n",
       "    <tr>\n",
       "      <th>0</th>\n",
       "      <td>4576</td>\n",
       "      <td>4233</td>\n",
       "      <td>NaN</td>\n",
       "      <td>Searched</td>\n",
       "      <td>[['/Hobbies &amp; Leisure/Special Occasions/Holida...</td>\n",
       "      <td>NaN</td>\n",
       "      <td>NaN</td>\n",
       "      <td>NaN</td>\n",
       "      <td>NaN</td>\n",
       "      <td>2020</td>\n",
       "      <td>1</td>\n",
       "      <td>1</td>\n",
       "      <td>22</td>\n",
       "      <td>53</td>\n",
       "      <td>2</td>\n",
       "      <td>NaN</td>\n",
       "      <td>NaN</td>\n",
       "      <td>search</td>\n",
       "      <td>New Year's Day</td>\n",
       "      <td>2020-01-01 22:53:00</td>\n",
       "    </tr>\n",
       "    <tr>\n",
       "      <th>1</th>\n",
       "      <td>4570</td>\n",
       "      <td>4227</td>\n",
       "      <td>NaN</td>\n",
       "      <td>Visited</td>\n",
       "      <td>[['/Travel/Hotels &amp; Accommodations', 0.9700000...</td>\n",
       "      <td>NaN</td>\n",
       "      <td>NaN</td>\n",
       "      <td>NaN</td>\n",
       "      <td>NaN</td>\n",
       "      <td>2020</td>\n",
       "      <td>1</td>\n",
       "      <td>1</td>\n",
       "      <td>22</td>\n",
       "      <td>56</td>\n",
       "      <td>2</td>\n",
       "      <td>NaN</td>\n",
       "      <td>NaN</td>\n",
       "      <td>search</td>\n",
       "      <td>A Kissimmee Hotel Near Disney World | Westgate...</td>\n",
       "      <td>2020-01-01 22:56:00</td>\n",
       "    </tr>\n",
       "    <tr>\n",
       "      <th>2</th>\n",
       "      <td>4571</td>\n",
       "      <td>4228</td>\n",
       "      <td>NaN</td>\n",
       "      <td>NaN</td>\n",
       "      <td>[['/Travel/Hotels &amp; Accommodations', 0.8000000...</td>\n",
       "      <td>NaN</td>\n",
       "      <td>NaN</td>\n",
       "      <td>NaN</td>\n",
       "      <td>NaN</td>\n",
       "      <td>2020</td>\n",
       "      <td>1</td>\n",
       "      <td>1</td>\n",
       "      <td>22</td>\n",
       "      <td>56</td>\n",
       "      <td>2</td>\n",
       "      <td>NaN</td>\n",
       "      <td>NaN</td>\n",
       "      <td>search</td>\n",
       "      <td>Westgate Town Center Resort</td>\n",
       "      <td>2020-01-01 22:56:00</td>\n",
       "    </tr>\n",
       "    <tr>\n",
       "      <th>3</th>\n",
       "      <td>4575</td>\n",
       "      <td>4232</td>\n",
       "      <td>NaN</td>\n",
       "      <td>Searched</td>\n",
       "      <td>[['/Travel/Tourist Destinations', 0.5600000023...</td>\n",
       "      <td>NaN</td>\n",
       "      <td>NaN</td>\n",
       "      <td>NaN</td>\n",
       "      <td>NaN</td>\n",
       "      <td>2020</td>\n",
       "      <td>1</td>\n",
       "      <td>1</td>\n",
       "      <td>22</td>\n",
       "      <td>56</td>\n",
       "      <td>2</td>\n",
       "      <td>NaN</td>\n",
       "      <td>NaN</td>\n",
       "      <td>search</td>\n",
       "      <td>mystic dunes orlando</td>\n",
       "      <td>2020-01-01 22:56:00</td>\n",
       "    </tr>\n",
       "    <tr>\n",
       "      <th>4</th>\n",
       "      <td>4573</td>\n",
       "      <td>4230</td>\n",
       "      <td>NaN</td>\n",
       "      <td>Visited</td>\n",
       "      <td>[['/Travel/Hotels &amp; Accommodations', 0.6800000...</td>\n",
       "      <td>NaN</td>\n",
       "      <td>NaN</td>\n",
       "      <td>NaN</td>\n",
       "      <td>NaN</td>\n",
       "      <td>2020</td>\n",
       "      <td>1</td>\n",
       "      <td>1</td>\n",
       "      <td>22</td>\n",
       "      <td>56</td>\n",
       "      <td>2</td>\n",
       "      <td>NaN</td>\n",
       "      <td>NaN</td>\n",
       "      <td>search</td>\n",
       "      <td>https://www.mystic-dunes-resort.com/</td>\n",
       "      <td>2020-01-01 22:56:00</td>\n",
       "    </tr>\n",
       "  </tbody>\n",
       "</table>\n",
       "</div>"
      ],
      "text/plain": [
       "   Unnamed: 0  Unnamed: 0.1  ratings    action  \\\n",
       "0        4576          4233      NaN  Searched   \n",
       "1        4570          4227      NaN   Visited   \n",
       "2        4571          4228      NaN       NaN   \n",
       "3        4575          4232      NaN  Searched   \n",
       "4        4573          4230      NaN   Visited   \n",
       "\n",
       "                                          categories  dislikes  likes  \\\n",
       "0  [['/Hobbies & Leisure/Special Occasions/Holida...       NaN    NaN   \n",
       "1  [['/Travel/Hotels & Accommodations', 0.9700000...       NaN    NaN   \n",
       "2  [['/Travel/Hotels & Accommodations', 0.8000000...       NaN    NaN   \n",
       "3  [['/Travel/Tourist Destinations', 0.5600000023...       NaN    NaN   \n",
       "4  [['/Travel/Hotels & Accommodations', 0.6800000...       NaN    NaN   \n",
       "\n",
       "   durations  view_cnts  years  months  days  hours  minutes  weekdays link  \\\n",
       "0        NaN        NaN   2020       1     1     22       53         2  NaN   \n",
       "1        NaN        NaN   2020       1     1     22       56         2  NaN   \n",
       "2        NaN        NaN   2020       1     1     22       56         2  NaN   \n",
       "3        NaN        NaN   2020       1     1     22       56         2  NaN   \n",
       "4        NaN        NaN   2020       1     1     22       56         2  NaN   \n",
       "\n",
       "  titles  source                                              query  \\\n",
       "0    NaN  search                                     New Year's Day   \n",
       "1    NaN  search  A Kissimmee Hotel Near Disney World | Westgate...   \n",
       "2    NaN  search                        Westgate Town Center Resort   \n",
       "3    NaN  search                               mystic dunes orlando   \n",
       "4    NaN  search               https://www.mystic-dunes-resort.com/   \n",
       "\n",
       "              datetime  \n",
       "0  2020-01-01 22:53:00  \n",
       "1  2020-01-01 22:56:00  \n",
       "2  2020-01-01 22:56:00  \n",
       "3  2020-01-01 22:56:00  \n",
       "4  2020-01-01 22:56:00  "
      ]
     },
     "execution_count": 64,
     "metadata": {},
     "output_type": "execute_result"
    }
   ],
   "source": [
    "for f in files:\n",
    "    df = pd.read_csv(f)\n",
    "df.head()"
   ]
  },
  {
   "cell_type": "code",
   "execution_count": 65,
   "metadata": {
    "scrolled": true
   },
   "outputs": [
    {
     "name": "stdout",
     "output_type": "stream",
     "text": [
      "<class 'pandas.core.frame.DataFrame'>\n",
      "RangeIndex: 5 entries, 0 to 4\n",
      "Data columns (total 3 columns):\n",
      "months     5 non-null int64\n",
      "search     5 non-null int64\n",
      "youtube    5 non-null int64\n",
      "dtypes: int64(3)\n",
      "memory usage: 192.0 bytes\n"
     ]
    }
   ],
   "source": [
    "#Using source label on dataframe\n",
    "source_df = df[['months', 'source']]\n",
    "source_df.groupby(['months', \"source\"], as_index=False)\n",
    "tabbed = pd.crosstab(index=source_df['months'], columns=source_df['source'])\n",
    "source = tabbed.reset_index()\n",
    "source.info()\n"
   ]
  },
  {
   "cell_type": "code",
   "execution_count": 66,
   "metadata": {},
   "outputs": [
    {
     "data": {
      "text/plain": [
       "Text(0.5,1,'Search and Youtube Count Jan-May')"
      ]
     },
     "execution_count": 66,
     "metadata": {},
     "output_type": "execute_result"
    },
    {
     "data": {
      "image/png": "[encoded data removed]",
      "text/plain": [
       "<Figure size 432x288 with 1 Axes>"
      ]
     },
     "metadata": {
      "needs_background": "light"
     },
     "output_type": "display_data"
    }
   ],
   "source": [
    "#Plotting searched v. youtube\n",
    "plot1 = plt.plot(source['months'], source['search'], label='Search')\n",
    "plot2 = plt.plot(source['months'], source['youtube'], label='Youtube')\n",
    "plt.xlabel('Months')\n",
    "plt.ylabel('Count')\n",
    "plt.legend()\n",
    "plt.title(\"Search and Youtube Count Jan-May\")"
   ]
  },
  {
   "cell_type": "code",
   "execution_count": 67,
   "metadata": {},
   "outputs": [
    {
     "data": {
      "text/html": [
       "<div>\n",
       "<style scoped>\n",
       "    .dataframe tbody tr th:only-of-type {\n",
       "        vertical-align: middle;\n",
       "    }\n",
       "\n",
       "    .dataframe tbody tr th {\n",
       "        vertical-align: top;\n",
       "    }\n",
       "\n",
       "    .dataframe thead th {\n",
       "        text-align: right;\n",
       "    }\n",
       "</style>\n",
       "<table border=\"1\" class=\"dataframe\">\n",
       "  <thead>\n",
       "    <tr style=\"text-align: right;\">\n",
       "      <th>action</th>\n",
       "      <th>months</th>\n",
       "      <th>Searched</th>\n",
       "      <th>Visited</th>\n",
       "      <th>Watched</th>\n",
       "    </tr>\n",
       "  </thead>\n",
       "  <tbody>\n",
       "    <tr>\n",
       "      <th>0</th>\n",
       "      <td>1</td>\n",
       "      <td>292</td>\n",
       "      <td>225</td>\n",
       "      <td>33</td>\n",
       "    </tr>\n",
       "    <tr>\n",
       "      <th>1</th>\n",
       "      <td>2</td>\n",
       "      <td>481</td>\n",
       "      <td>383</td>\n",
       "      <td>30</td>\n",
       "    </tr>\n",
       "    <tr>\n",
       "      <th>2</th>\n",
       "      <td>3</td>\n",
       "      <td>430</td>\n",
       "      <td>383</td>\n",
       "      <td>141</td>\n",
       "    </tr>\n",
       "    <tr>\n",
       "      <th>3</th>\n",
       "      <td>4</td>\n",
       "      <td>726</td>\n",
       "      <td>716</td>\n",
       "      <td>98</td>\n",
       "    </tr>\n",
       "    <tr>\n",
       "      <th>4</th>\n",
       "      <td>5</td>\n",
       "      <td>238</td>\n",
       "      <td>228</td>\n",
       "      <td>29</td>\n",
       "    </tr>\n",
       "  </tbody>\n",
       "</table>\n",
       "</div>"
      ],
      "text/plain": [
       "action  months  Searched  Visited  Watched\n",
       "0            1       292      225       33\n",
       "1            2       481      383       30\n",
       "2            3       430      383      141\n",
       "3            4       726      716       98\n",
       "4            5       238      228       29"
      ]
     },
     "execution_count": 67,
     "metadata": {},
     "output_type": "execute_result"
    }
   ],
   "source": [
    "#Using action label on dataframe\n",
    "action_df = df[['months', 'action']]\n",
    "action_df.groupby(['months', \"action\"], as_index=False)\n",
    "tabbed_2 = pd.crosstab(index=action_df['months'], columns=action_df['action'])\n",
    "action = tabbed_2.reset_index()\n",
    "action.head()"
   ]
  },
  {
   "cell_type": "code",
   "execution_count": 70,
   "metadata": {},
   "outputs": [
    {
     "data": {
      "text/plain": [
       "Text(0.5,1,'Searched, Watched, and Visited Count, Jan-May')"
      ]
     },
     "execution_count": 70,
     "metadata": {},
     "output_type": "execute_result"
    },
    {
     "data": {
      "image/png": "[encoded data removed]",
      "text/plain": [
       "<Figure size 432x288 with 1 Axes>"
      ]
     },
     "metadata": {
      "needs_background": "light"
     },
     "output_type": "display_data"
    }
   ],
   "source": [
    "#Plotting actions\n",
    "plot1 = plt.plot(action['months'], action['Searched'], label='Searched')\n",
    "plot2 = plt.plot(action['months'], action['Visited'], label='Visited')\n",
    "plot3 = plt.plot(action['months'], action['Watched'], label='Watched')\n",
    "plt.xlabel('Months')\n",
    "plt.ylabel('Count')\n",
    "plt.legend()\n",
    "plt.title(\"Searched, Watched, and Visited Count, Jan-May\")"
   ]
  },
  {
   "cell_type": "code",
   "execution_count": null,
   "metadata": {},
   "outputs": [],
   "source": []
  }
 ],
 "metadata": {
  "kernelspec": {
   "display_name": "Python 2",
   "language": "python",
   "name": "python2"
  },
  "language_info": {
   "codemirror_mode": {
    "name": "ipython",
    "version": 2
   },
   "file_extension": ".py",
   "mimetype": "text/x-python",
   "name": "python",
   "nbconvert_exporter": "python",
   "pygments_lexer": "ipython2",
   "version": "2.7.16"
  }
 },
 "nbformat": 4,
 "nbformat_minor": 2
}
