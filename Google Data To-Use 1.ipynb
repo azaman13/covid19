{
 "cells": [
  {
   "cell_type": "code",
   "execution_count": 3,
   "metadata": {},
   "outputs": [],
   "source": [
    "import glob\n",
    "import pandas as pd\n",
    "import numpy as np\n",
    "import matplotlib.pyplot as plt\n",
    "                  "
   ]
  },
  {
   "cell_type": "code",
   "execution_count": 28,
   "metadata": {},
   "outputs": [],
   "source": [
    "files = glob.glob('data-to-use/*.csv')"
   ]
  },
  {
   "cell_type": "code",
   "execution_count": 78,
   "metadata": {},
   "outputs": [],
   "source": [
    "march_counts = []\n",
    "val = 3\n",
    "for f in files:\n",
    "    df = pd.read_csv(f)\n",
    "    newdf=df[df.years > 2019]\n",
    "    v = newdf.months.value_counts()\n",
    "    if val in v:\n",
    "        march_counts.append(v[val])"
   ]
  },
  {
   "cell_type": "code",
   "execution_count": 79,
   "metadata": {},
   "outputs": [
    {
     "data": {
      "text/plain": [
       "[462,\n",
       " 2031,\n",
       " 407,\n",
       " 347,\n",
       " 736,\n",
       " 43,\n",
       " 17,\n",
       " 997,\n",
       " 1154,\n",
       " 246,\n",
       " 401,\n",
       " 403,\n",
       " 982,\n",
       " 177,\n",
       " 1008,\n",
       " 1042,\n",
       " 425,\n",
       " 157,\n",
       " 603,\n",
       " 290,\n",
       " 109,\n",
       " 2423,\n",
       " 166,\n",
       " 222,\n",
       " 60,\n",
       " 374,\n",
       " 697,\n",
       " 224,\n",
       " 446,\n",
       " 559,\n",
       " 101,\n",
       " 490,\n",
       " 288,\n",
       " 477,\n",
       " 1,\n",
       " 424,\n",
       " 960,\n",
       " 339,\n",
       " 24,\n",
       " 9,\n",
       " 226,\n",
       " 692,\n",
       " 219,\n",
       " 189,\n",
       " 180,\n",
       " 68,\n",
       " 7,\n",
       " 603,\n",
       " 285,\n",
       " 782,\n",
       " 537,\n",
       " 1372,\n",
       " 709,\n",
       " 225,\n",
       " 413,\n",
       " 257,\n",
       " 677,\n",
       " 1185,\n",
       " 196,\n",
       " 256,\n",
       " 1264,\n",
       " 3,\n",
       " 1162,\n",
       " 742,\n",
       " 321,\n",
       " 159,\n",
       " 336,\n",
       " 224,\n",
       " 928]"
      ]
     },
     "execution_count": 79,
     "metadata": {},
     "output_type": "execute_result"
    }
   ],
   "source": [
    "march_counts"
   ]
  },
  {
   "cell_type": "code",
   "execution_count": null,
   "metadata": {},
   "outputs": [],
   "source": []
  }
 ],
 "metadata": {
  "kernelspec": {
   "display_name": "Python 3",
   "language": "python",
   "name": "python3"
  },
  "language_info": {
   "codemirror_mode": {
    "name": "ipython",
    "version": 3
   },
   "file_extension": ".py",
   "mimetype": "text/x-python",
   "name": "python",
   "nbconvert_exporter": "python",
   "pygments_lexer": "ipython3",
   "version": "3.7.6"
  }
 },
 "nbformat": 4,
 "nbformat_minor": 4
}
