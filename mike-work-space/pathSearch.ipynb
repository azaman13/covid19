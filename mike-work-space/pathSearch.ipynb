{
 "cells": [
  {
   "cell_type": "code",
   "execution_count": 2,
   "metadata": {},
   "outputs": [],
   "source": [
    "import glob\n",
    "import pandas as pd\n",
    "import numpy as np\n",
    "import matplotlib.pyplot as plt"
   ]
  },
  {
   "cell_type": "code",
   "execution_count": null,
   "metadata": {},
   "outputs": [],
   "source": [
    "files = glob.glob('data-to-use/*.csv')"
   ]
  },
  {
   "cell_type": "markdown",
   "metadata": {},
   "source": [
    "Pass in user file, return df for that user"
   ]
  },
  {
   "cell_type": "code",
   "execution_count": 69,
   "metadata": {},
   "outputs": [],
   "source": [
    "def create_user_df(file):\n",
    "    return pd.read_csv(file)"
   ]
  },
  {
   "cell_type": "markdown",
   "metadata": {},
   "source": [
    "Method to return data from a given month in 2020. This is reliant on the df that is set in the above cell"
   ]
  },
  {
   "cell_type": "code",
   "execution_count": 72,
   "metadata": {
    "scrolled": true
   },
   "outputs": [],
   "source": [
    "def retrun_month_df(df,monthInt): \n",
    "    df_youtube_data_month = df[(df['years'] == 2020) & (df['months'] == monthInt) &(df['source'] == 'youtube') ]\n",
    "    df_youtube_data_month['datetime'] = pd.to_datetime(df_youtube_data_month.datetime)\n",
    "    df_youtube_data_month = df_youtube_data_month.sort_values(by='datetime',ascending =True).reset_index()\n",
    "    #print(\"Dataframe Size for month #\"+str(monthInt)+\": \"+str(df_youtube_data_month.shape[0]))\n",
    "    return df_youtube_data_month"
   ]
  },
  {
   "cell_type": "markdown",
   "metadata": {},
   "source": [
    "Method to return a list of the trails found in the passed in dataframe. A trail is currently considered a series of videos watched in a row, with no searches between, and at maximum 10 minutes spent between watching each video, ontop of the duration of the video"
   ]
  },
  {
   "cell_type": "code",
   "execution_count": 5,
   "metadata": {
    "scrolled": true
   },
   "outputs": [],
   "source": [
    "def create_trail_list(month_df):\n",
    "    trails = []\n",
    "    current_trail = []\n",
    "    for index, row in month_df.iterrows():\n",
    "        if row['action'] == \"Searched\":\n",
    "            trails.append(current_trail)\n",
    "            current_trail = [row]\n",
    "        else:\n",
    "            if len(current_trail) == 0:\n",
    "                current_trail.append(row)\n",
    "            else:\n",
    "                eventTimeDif = (row.datetime - current_trail[-1].datetime).seconds\n",
    "                if (pd.notnull(current_trail[-1].durations)):\n",
    "                    difComp = int(current_trail[-1].durations) + (60*10)\n",
    "                else:\n",
    "                    difComp = (60*10)\n",
    "                if (current_trail[-1]['action'] == \"Searched\" and eventTimeDif < (60 * 10)) or (eventTimeDif < difComp):\n",
    "                    current_trail.append(row)\n",
    "                else:\n",
    "                    trails.append(current_trail)\n",
    "                    current_trail = [row]   \n",
    "    if len(current_trail) > 1:\n",
    "        trails.append(current_trail)\n",
    "    return trails"
   ]
  },
  {
   "cell_type": "markdown",
   "metadata": {},
   "source": [
    "Print out some core details on the list of trails that are passed in"
   ]
  },
  {
   "cell_type": "code",
   "execution_count": 59,
   "metadata": {},
   "outputs": [],
   "source": [
    "def create_month_report(trailsList):\n",
    "    longest = 0\n",
    "    count_five = 0\n",
    "    count = 0\n",
    "    total_length = 0\n",
    "    for trail in trailsList:\n",
    "        if len(trail) > longest:\n",
    "            longest = len(trail)\n",
    "        if len(trail) > 4:\n",
    "            count_five += 1\n",
    "        if len(trail) > 1:\n",
    "            count += 1\n",
    "            total_length += len(trail)\n",
    "    print(\"Number of Trails: \"+ str(count))\n",
    "    print(\"Number of Trails of Length Greater then 5: \"+ str(count_five))\n",
    "    print(\"Longest Trail: \"+ str(longest))\n",
    "    print(\"Average path length: \"+str(total_length/count))"
   ]
  },
  {
   "cell_type": "markdown",
   "metadata": {},
   "source": [
    "Generate a dictonary which contains the mean trail distance for that date"
   ]
  },
  {
   "cell_type": "code",
   "execution_count": 7,
   "metadata": {},
   "outputs": [],
   "source": [
    "def generate_trail_means():\n",
    "    trailsByDate = {}\n",
    "    meanByDate = {}\n",
    "    for trail in trails:\n",
    "        if trail[0]['datetime'] in list(trailsByDate.keys()):\n",
    "            trailsByDate[trail[0]['datetime']].append(trail)\n",
    "        else:\n",
    "            trailsByDate[trail[0]['datetime']] = [trail]\n",
    "    for date in list(trailsByDate.keys()):\n",
    "        dateSum = 0\n",
    "        for trail in trailsByDate[date]:\n",
    "            dateSum = dateSum + len(trail)\n",
    "        meanByDate[date] = dateSum/len(trailsByDate[date])\n",
    "    return meanByDate"
   ]
  },
  {
   "cell_type": "markdown",
   "metadata": {},
   "source": [
    "Plot the passed in dictonary, originally intended to use this to plot the mean trail"
   ]
  },
  {
   "cell_type": "code",
   "execution_count": 60,
   "metadata": {},
   "outputs": [],
   "source": [
    "def plot_dic(dic): \n",
    "    lists = sorted(dic.items()) # sorted by key, return a list of tuples\n",
    "    x, y = zip(*lists) # unpack a list of pairs into two tuples\n",
    "    plt.plot(x, y)\n",
    "    plt.show()"
   ]
  },
  {
   "cell_type": "code",
   "execution_count": 73,
   "metadata": {},
   "outputs": [
    {
     "name": "stderr",
     "output_type": "stream",
     "text": [
      "<ipython-input-72-d50ab5ad5caf>:3: SettingWithCopyWarning: \n",
      "A value is trying to be set on a copy of a slice from a DataFrame.\n",
      "Try using .loc[row_indexer,col_indexer] = value instead\n",
      "\n",
      "See the caveats in the documentation: https://pandas.pydata.org/pandas-docs/stable/user_guide/indexing.html#returning-a-view-versus-a-copy\n",
      "  df_youtube_data_month['datetime'] = pd.to_datetime(df_youtube_data_month.datetime)\n"
     ]
    },
    {
     "name": "stdout",
     "output_type": "stream",
     "text": [
      "Number of Trails: 3332\n",
      "Number of Trails of Length Greater then 5: 942\n",
      "Longest Trail: 47\n",
      "Average path length: 4.387755102040816\n"
     ]
    }
   ],
   "source": [
    "jan_total_trails = []\n",
    "for f in files:\n",
    "    user_df = create_user_df(f)\n",
    "    jan_df = retrun_month_df(user_df,1)\n",
    "    jan_trails = create_trail_list(jan_df)\n",
    "    jan_total_trails += jan_trails\n",
    "create_month_report(jan_total_trails)"
   ]
  },
  {
   "cell_type": "code",
   "execution_count": 74,
   "metadata": {},
   "outputs": [
    {
     "name": "stderr",
     "output_type": "stream",
     "text": [
      "<ipython-input-72-d50ab5ad5caf>:3: SettingWithCopyWarning: \n",
      "A value is trying to be set on a copy of a slice from a DataFrame.\n",
      "Try using .loc[row_indexer,col_indexer] = value instead\n",
      "\n",
      "See the caveats in the documentation: https://pandas.pydata.org/pandas-docs/stable/user_guide/indexing.html#returning-a-view-versus-a-copy\n",
      "  df_youtube_data_month['datetime'] = pd.to_datetime(df_youtube_data_month.datetime)\n"
     ]
    },
    {
     "name": "stdout",
     "output_type": "stream",
     "text": [
      "Number of Trails: 3247\n",
      "Number of Trails of Length Greater then 5: 999\n",
      "Longest Trail: 49\n",
      "Average path length: 4.7342161995688326\n"
     ]
    }
   ],
   "source": [
    "jan_total_trails = []\n",
    "for f in files:\n",
    "    user_df = create_user_df(f)\n",
    "    jan_df = retrun_month_df(user_df,2)\n",
    "    jan_trails = create_trail_list(jan_df)\n",
    "    jan_total_trails += jan_trails\n",
    "create_month_report(jan_total_trails)"
   ]
  },
  {
   "cell_type": "code",
   "execution_count": 75,
   "metadata": {},
   "outputs": [
    {
     "name": "stderr",
     "output_type": "stream",
     "text": [
      "<ipython-input-72-d50ab5ad5caf>:3: SettingWithCopyWarning: \n",
      "A value is trying to be set on a copy of a slice from a DataFrame.\n",
      "Try using .loc[row_indexer,col_indexer] = value instead\n",
      "\n",
      "See the caveats in the documentation: https://pandas.pydata.org/pandas-docs/stable/user_guide/indexing.html#returning-a-view-versus-a-copy\n",
      "  df_youtube_data_month['datetime'] = pd.to_datetime(df_youtube_data_month.datetime)\n"
     ]
    },
    {
     "name": "stdout",
     "output_type": "stream",
     "text": [
      "Number of Trails: 2242\n",
      "Number of Trails of Length Greater then 5: 749\n",
      "Longest Trail: 78\n",
      "Average path length: 4.922836752899197\n"
     ]
    }
   ],
   "source": [
    "jan_total_trails = []\n",
    "for f in files:\n",
    "    user_df = create_user_df(f)\n",
    "    jan_df = retrun_month_df(user_df,3)\n",
    "    jan_trails = create_trail_list(jan_df)\n",
    "    jan_total_trails += jan_trails\n",
    "create_month_report(jan_total_trails)"
   ]
  },
  {
   "cell_type": "code",
   "execution_count": null,
   "metadata": {},
   "outputs": [],
   "source": []
  }
 ],
 "metadata": {
  "kernelspec": {
   "display_name": "Python 3",
   "language": "python",
   "name": "python3"
  },
  "language_info": {
   "codemirror_mode": {
    "name": "ipython",
    "version": 3
   },
   "file_extension": ".py",
   "mimetype": "text/x-python",
   "name": "python",
   "nbconvert_exporter": "python",
   "pygments_lexer": "ipython3",
   "version": "3.8.2"
  }
 },
 "nbformat": 4,
 "nbformat_minor": 4
}
