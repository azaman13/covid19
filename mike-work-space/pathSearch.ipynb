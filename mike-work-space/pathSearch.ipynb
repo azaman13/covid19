{
 "cells": [
  {
   "cell_type": "code",
   "execution_count": 4,
   "metadata": {},
   "outputs": [],
   "source": [
    "import glob\n",
    "import pandas as pd\n",
    "import numpy as np\n",
    "import matplotlib.pyplot as plt"
   ]
  },
  {
   "cell_type": "code",
   "execution_count": 18,
   "metadata": {},
   "outputs": [],
   "source": [
    "files = glob.glob('new_data/*.csv')"
   ]
  },
  {
   "cell_type": "markdown",
   "metadata": {},
   "source": [
    "Pass in user file, return df for that user"
   ]
  },
  {
   "cell_type": "markdown",
   "metadata": {},
   "source": [
    "Method to return data from a given month in 2020. This is reliant on the df that is set in the above cell"
   ]
  },
  {
   "cell_type": "code",
   "execution_count": 32,
   "metadata": {
    "scrolled": true
   },
   "outputs": [],
   "source": [
    "def retrun_month_df(file): \n",
    "    df = pd.read_csv(file)\n",
    "    df_youtube_data_month = df[(df['years'] == 2020) &(df['source'] == 'youtube') ]\n",
    "    df_youtube_data_month['datetime'] = pd.to_datetime(df_youtube_data_month.datetime)\n",
    "    df_youtube_data_month = df_youtube_data_month.sort_values(by='datetime',ascending =True).reset_index()\n",
    "    print(file,\"-\",str(df_youtube_data_month.shape[0]))\n",
    "    return df_youtube_data_month"
   ]
  },
  {
   "cell_type": "markdown",
   "metadata": {},
   "source": [
    "Method to return a list of the trails found in the passed in dataframe. \n",
    "A trail is currently considered a series of videos watched in a row, with no searches between, and at maximum 5 minutes spent between watching each video, ontop of the duration of the video"
   ]
  },
  {
   "cell_type": "code",
   "execution_count": 8,
   "metadata": {
    "scrolled": true
   },
   "outputs": [],
   "source": [
    "def create_trail_list(month_df):\n",
    "    break_time_minutes = 5\n",
    "    trails = []\n",
    "    current_trail = []\n",
    "    for index, row in month_df.iterrows():\n",
    "        if row['action'] == \"Searched\":\n",
    "            if len(current_trail) != 0:\n",
    "                trails.append(current_trail)\n",
    "            current_trail = [row]\n",
    "        else:\n",
    "            if len(current_trail) == 0:\n",
    "                current_trail.append(row)\n",
    "            else:\n",
    "                eventTimeDif = (row.datetime - current_trail[-1].datetime).seconds\n",
    "                if (pd.notnull(current_trail[-1].durations)):\n",
    "                    difComp = int(current_trail[-1].durations) + (60*break_time_minutes)\n",
    "                else:\n",
    "                    difComp = (60*break_time_minutes)\n",
    "                if (current_trail[-1]['action'] == \"Searched\" and eventTimeDif < (60 * break_time_minutes)) or (eventTimeDif < difComp):\n",
    "                    current_trail.append(row)\n",
    "                else:\n",
    "                    if len(current_trail) != 0:\n",
    "                        trails.append(current_trail)\n",
    "                    current_trail = [row]   \n",
    "    if len(current_trail) > 1:\n",
    "        trails.append(current_trail)\n",
    "    return trails"
   ]
  },
  {
   "cell_type": "markdown",
   "metadata": {},
   "source": [
    "Print out some core details on the list of trails that are passed in"
   ]
  },
  {
   "cell_type": "code",
   "execution_count": 16,
   "metadata": {},
   "outputs": [],
   "source": [
    "def create_month_report(trailsList):\n",
    "    longest = 0\n",
    "    count_five = 0\n",
    "    count = 0\n",
    "    total_length = 0\n",
    "    for trail in trailsList:\n",
    "        if len(trail) > longest:\n",
    "            longest = len(trail)\n",
    "        if len(trail) > 19:\n",
    "            count_five += 1\n",
    "        if len(trail) > 1:\n",
    "            count += 1\n",
    "            total_length += len(trail)\n",
    "    print(\"Number of Trails: \"+ str(count))\n",
    "    print(\"Number of Trails of Length Greater then 20: \"+ str(count_five))\n",
    "    print(\"Longest Trail: \"+ str(longest))\n",
    "    print(\"Average path length: \"+str(total_length/count))"
   ]
  },
  {
   "cell_type": "markdown",
   "metadata": {},
   "source": [
    "Generate a dictonary which contains the mean trail distance for that date"
   ]
  },
  {
   "cell_type": "code",
   "execution_count": 10,
   "metadata": {},
   "outputs": [],
   "source": [
    "def generate_trail_means(trails):\n",
    "    trailsByDate = {}\n",
    "    meanByDate = {}\n",
    "    for trail in trails:\n",
    "        if trail[0]['datetime'].date() in list(trailsByDate.keys()):\n",
    "            trailsByDate[trail[0]['datetime'].date()].append(trail)\n",
    "        else:\n",
    "            trailsByDate[trail[0]['datetime'].date()] = [trail]\n",
    "    for date in list(trailsByDate.keys()):\n",
    "        dateSum = 0\n",
    "        for trail in trailsByDate[date]:\n",
    "            dateSum = dateSum + len(trail)\n",
    "        meanByDate[date] = dateSum/len(trailsByDate[date])\n",
    "    return meanByDate"
   ]
  },
  {
   "cell_type": "code",
   "execution_count": 11,
   "metadata": {},
   "outputs": [],
   "source": [
    "def generate_trail_count_per_day(trails):\n",
    "    trailsByDate = {}\n",
    "    meanByDate = {}\n",
    "    for trail in trails:\n",
    "        if trail[0]['datetime'].date() in list(trailsByDate.keys()):\n",
    "            trailsByDate[trail[0]['datetime'].date()].append(trail)\n",
    "        else:\n",
    "            trailsByDate[trail[0]['datetime'].date()] = [trail]\n",
    "    for i in trailsByDate.keys():\n",
    "        trailsByDate[i] = len(trailsByDate[i])\n",
    "    return trailsByDate"
   ]
  },
  {
   "cell_type": "code",
   "execution_count": 12,
   "metadata": {},
   "outputs": [],
   "source": [
    "def generate_num_greater_five(trails):\n",
    "    trailsByDate = {}\n",
    "    numPerDate = {}\n",
    "    for trail in trails:\n",
    "        if trail[0]['datetime'].date() in list(trailsByDate.keys()) and len(trail) > 5:\n",
    "            trailsByDate[trail[0]['datetime'].date()].append(trail)\n",
    "        elif len(trail) > 5:\n",
    "            trailsByDate[trail[0]['datetime'].date()] = [trail]\n",
    "        else:\n",
    "            pass\n",
    "    for trailDate in trailsByDate.keys():\n",
    "        numPerDate[trailDate] = len(trailsByDate[trailDate])\n",
    "    return numPerDate"
   ]
  },
  {
   "cell_type": "markdown",
   "metadata": {},
   "source": [
    "Plot the passed in dictonary, originally intended to use this to plot the mean trail"
   ]
  },
  {
   "cell_type": "code",
   "execution_count": 13,
   "metadata": {},
   "outputs": [],
   "source": [
    "def plot_dic(dic,dic2): \n",
    "    lists = sorted(dic.items()) # sorted by key, return a list of tuples\n",
    "    x, y = zip(*lists) # unpack a list of pairs into two tuples\n",
    "    plt.rcParams[\"figure.figsize\"] = (20,10)\n",
    "    plt.ylim(0,400)\n",
    "    plt.plot(x, y)\n",
    "    plt.plot\n",
    "    \n",
    "    plt.show()"
   ]
  },
  {
   "cell_type": "code",
   "execution_count": 34,
   "metadata": {},
   "outputs": [],
   "source": [
    "def return_all_trails():\n",
    "    total_trails = []\n",
    "    for f in files:\n",
    "        df = retrun_month_df(f)\n",
    "        trails = create_trail_list(df)\n",
    "        print(len(trails))\n",
    "        total_trails += trails\n",
    "    create_month_report(total_trails)\n",
    "    trailCounts = generate_trail_count_per_day(total_trails)\n",
    "    return trailCounts"
   ]
  },
  {
   "cell_type": "code",
   "execution_count": 35,
   "metadata": {},
   "outputs": [
    {
     "ename": "TypeError",
     "evalue": "retrun_month_df() takes 1 positional argument but 2 were given",
     "output_type": "error",
     "traceback": [
      "\u001b[0;31m---------------------------------------------------------------------------\u001b[0m",
      "\u001b[0;31mTypeError\u001b[0m                                 Traceback (most recent call last)",
      "\u001b[0;32m<ipython-input-35-5ad636265c2b>\u001b[0m in \u001b[0;36m<module>\u001b[0;34m\u001b[0m\n\u001b[1;32m      2\u001b[0m \u001b[0;32mfor\u001b[0m \u001b[0mf\u001b[0m \u001b[0;32min\u001b[0m \u001b[0mfiles\u001b[0m\u001b[0;34m:\u001b[0m\u001b[0;34m\u001b[0m\u001b[0;34m\u001b[0m\u001b[0m\n\u001b[1;32m      3\u001b[0m     \u001b[0muser_df\u001b[0m \u001b[0;34m=\u001b[0m \u001b[0mcreate_user_df\u001b[0m\u001b[0;34m(\u001b[0m\u001b[0mf\u001b[0m\u001b[0;34m)\u001b[0m\u001b[0;34m\u001b[0m\u001b[0;34m\u001b[0m\u001b[0m\n\u001b[0;32m----> 4\u001b[0;31m     \u001b[0mjan_df\u001b[0m \u001b[0;34m=\u001b[0m \u001b[0mretrun_month_df\u001b[0m\u001b[0;34m(\u001b[0m\u001b[0muser_df\u001b[0m\u001b[0;34m,\u001b[0m\u001b[0;36m1\u001b[0m\u001b[0;34m)\u001b[0m\u001b[0;34m\u001b[0m\u001b[0;34m\u001b[0m\u001b[0m\n\u001b[0m\u001b[1;32m      5\u001b[0m     \u001b[0mjan_trails\u001b[0m \u001b[0;34m=\u001b[0m \u001b[0mcreate_trail_list\u001b[0m\u001b[0;34m(\u001b[0m\u001b[0mjan_df\u001b[0m\u001b[0;34m)\u001b[0m\u001b[0;34m\u001b[0m\u001b[0;34m\u001b[0m\u001b[0m\n\u001b[1;32m      6\u001b[0m     \u001b[0mjan_total_trails\u001b[0m \u001b[0;34m+=\u001b[0m \u001b[0mjan_trails\u001b[0m\u001b[0;34m\u001b[0m\u001b[0;34m\u001b[0m\u001b[0m\n",
      "\u001b[0;31mTypeError\u001b[0m: retrun_month_df() takes 1 positional argument but 2 were given"
     ]
    }
   ],
   "source": [
    "jan_total_trails = []\n",
    "for f in files:\n",
    "    user_df = create_user_df(f)\n",
    "    jan_df = retrun_month_df(user_df,1)\n",
    "    jan_trails = create_trail_list(jan_df)\n",
    "    jan_total_trails += jan_trails\n",
    "create_month_report(jan_total_trails)\n",
    "trailCounts = generate_trail_count_per_day(jan_total_trails)\n",
    "plot_dic(trailCounts)"
   ]
  },
  {
   "cell_type": "code",
   "execution_count": null,
   "metadata": {},
   "outputs": [],
   "source": [
    "feb_total_trails = []\n",
    "for f in files:\n",
    "    user_df = create_user_df(f)\n",
    "    feb_df = retrun_month_df(user_df,2)\n",
    "    feb_trails = create_trail_list(feb_df)\n",
    "    feb_total_trails += feb_trails\n",
    "create_month_report(feb_total_trails)\n",
    "trailCounts = generate_trail_count_per_day(feb_total_trails)\n",
    "plot_dic(trailCounts)"
   ]
  },
  {
   "cell_type": "code",
   "execution_count": null,
   "metadata": {},
   "outputs": [],
   "source": [
    "march_total_trails = []\n",
    "for f in files:\n",
    "    user_df = create_user_df(f)\n",
    "    march_df = retrun_month_df(user_df,3)\n",
    "    march_trails = create_trail_list(march_df)\n",
    "    march_total_trails += march_trails\n",
    "create_month_report(march_total_trails)\n",
    "trailCounts = generate_trail_count_per_day(march_total_trails)\n",
    "plot_dic(trailCounts)"
   ]
  },
  {
   "cell_type": "code",
   "execution_count": null,
   "metadata": {},
   "outputs": [],
   "source": [
    "april_total_trails = []\n",
    "for f in files:\n",
    "    user_df = create_user_df(f)\n",
    "    april_df = retrun_month_df(user_df,4)\n",
    "    april_trails = create_trail_list(april_df)\n",
    "    april_total_trails += april_trails\n",
    "create_month_report(april_total_trails)\n",
    "trailCounts = generate_trail_count_per_day(april_total_trails)\n",
    "plot_dic(trailCounts)"
   ]
  },
  {
   "cell_type": "code",
   "execution_count": null,
   "metadata": {},
   "outputs": [],
   "source": [
    "may_total_trails = []\n",
    "for f in files:\n",
    "    user_df = create_user_df(f)\n",
    "    may_df = retrun_month_df(user_df,5)\n",
    "    may_trails = create_trail_list(may_df)\n",
    "    may_total_trails += may_trails\n",
    "create_month_report(may_total_trails)\n",
    "trailCounts = generate_trail_count_per_day(may_total_trails)\n",
    "plot_dic(trailCounts)"
   ]
  },
  {
   "cell_type": "code",
   "execution_count": null,
   "metadata": {},
   "outputs": [],
   "source": []
  },
  {
   "cell_type": "code",
   "execution_count": null,
   "metadata": {},
   "outputs": [],
   "source": []
  },
  {
   "cell_type": "code",
   "execution_count": 36,
   "metadata": {},
   "outputs": [
    {
     "name": "stdout",
     "output_type": "stream",
     "text": [
      "new_data/15_39.csv - 0\n",
      "0\n",
      "new_data/10_34.csv - 52\n",
      "34\n",
      "new_data/22_45.csv - 0\n",
      "0\n",
      "new_data/6_65.csv - 930\n",
      "481\n"
     ]
    },
    {
     "name": "stderr",
     "output_type": "stream",
     "text": [
      "<ipython-input-32-f8c963e63aa4>:4: SettingWithCopyWarning: \n",
      "A value is trying to be set on a copy of a slice from a DataFrame.\n",
      "Try using .loc[row_indexer,col_indexer] = value instead\n",
      "\n",
      "See the caveats in the documentation: https://pandas.pydata.org/pandas-docs/stable/user_guide/indexing.html#returning-a-view-versus-a-copy\n",
      "  df_youtube_data_month['datetime'] = pd.to_datetime(df_youtube_data_month.datetime)\n"
     ]
    },
    {
     "name": "stdout",
     "output_type": "stream",
     "text": [
      "new_data/12_32.csv - 1435\n",
      "909\n",
      "new_data/5_19.csv - 4521\n",
      "2597\n",
      "new_data/34_25.csv - 2049\n",
      "1123\n",
      "new_data/19_28.csv - 2333\n",
      "1780\n",
      "new_data/35_58.csv - 0\n",
      "0\n",
      "new_data/33_62.csv - 5670\n",
      "2073\n",
      "new_data/23_70.csv - 46\n",
      "35\n",
      "new_data/14_31.csv - 4871\n",
      "1605\n",
      "new_data/7_43.csv - 547\n",
      "352\n",
      "new_data/11_38.csv - 6046\n",
      "1406\n",
      "new_data/1_22.csv - 4148\n",
      "1984\n",
      "new_data/26_85.csv - 301\n",
      "139\n",
      "new_data/20_26.csv - 2506\n",
      "1112\n",
      "new_data/32_17.csv - 463\n",
      "310\n",
      "new_data/31_84.csv - 463\n",
      "305\n",
      "new_data/29_30.csv - 816\n",
      "540\n",
      "new_data/24_64.csv - 1333\n",
      "883\n",
      "new_data/17_40.csv - 97\n",
      "60\n",
      "new_data/13_24.csv - 1378\n",
      "980\n",
      "new_data/18_11.csv - 826\n",
      "502\n",
      "new_data/9_66.csv - 562\n",
      "407\n",
      "new_data/36_63.csv - 0\n",
      "0\n",
      "new_data/3_77.csv - 133\n",
      "51\n",
      "new_data/25_79.csv - 301\n",
      "137\n",
      "new_data/21_8.csv - 0\n",
      "0\n",
      "new_data/8_41.csv - 1820\n",
      "1038\n",
      "new_data/27_47.csv - 261\n",
      "176\n",
      "new_data/4_50.csv - 2047\n",
      "1009\n",
      "new_data/28_16.csv - 3169\n",
      "1828\n",
      "new_data/16_5.csv - 863\n",
      "456\n",
      "new_data/37_82.csv - 1737\n",
      "1128\n",
      "new_data/2_27.csv - 752\n",
      "418\n",
      "new_data/30_75.csv - 343\n",
      "161\n",
      "Number of Trails: 10442\n",
      "Number of Trails of Length Greater then 20: 78\n",
      "Longest Trail: 64\n",
      "Average path length: 3.5645470216433632\n"
     ]
    },
    {
     "ename": "TypeError",
     "evalue": "plot_dic() missing 1 required positional argument: 'dic2'",
     "output_type": "error",
     "traceback": [
      "\u001b[0;31m---------------------------------------------------------------------------\u001b[0m",
      "\u001b[0;31mTypeError\u001b[0m                                 Traceback (most recent call last)",
      "\u001b[0;32m<ipython-input-36-d4ed591c2f64>\u001b[0m in \u001b[0;36m<module>\u001b[0;34m\u001b[0m\n\u001b[1;32m      1\u001b[0m \u001b[0mtrails\u001b[0m \u001b[0;34m=\u001b[0m \u001b[0mreturn_all_trails\u001b[0m\u001b[0;34m(\u001b[0m\u001b[0;34m)\u001b[0m\u001b[0;34m\u001b[0m\u001b[0;34m\u001b[0m\u001b[0m\n\u001b[0;32m----> 2\u001b[0;31m \u001b[0mplot_dic\u001b[0m\u001b[0;34m(\u001b[0m\u001b[0mtrails\u001b[0m\u001b[0;34m)\u001b[0m\u001b[0;34m\u001b[0m\u001b[0;34m\u001b[0m\u001b[0m\n\u001b[0m",
      "\u001b[0;31mTypeError\u001b[0m: plot_dic() missing 1 required positional argument: 'dic2'"
     ]
    }
   ],
   "source": [
    "trails = return_all_trails()\n",
    "plot_dic(trails)"
   ]
  },
  {
   "cell_type": "code",
   "execution_count": null,
   "metadata": {},
   "outputs": [],
   "source": []
  },
  {
   "cell_type": "code",
   "execution_count": null,
   "metadata": {},
   "outputs": [],
   "source": []
  },
  {
   "cell_type": "code",
   "execution_count": null,
   "metadata": {},
   "outputs": [],
   "source": []
  },
  {
   "cell_type": "code",
   "execution_count": null,
   "metadata": {},
   "outputs": [],
   "source": []
  },
  {
   "cell_type": "code",
   "execution_count": null,
   "metadata": {},
   "outputs": [],
   "source": []
  },
  {
   "cell_type": "code",
   "execution_count": null,
   "metadata": {},
   "outputs": [],
   "source": []
  }
 ],
 "metadata": {
  "kernelspec": {
   "display_name": "Python 3",
   "language": "python",
   "name": "python3"
  },
  "language_info": {
   "codemirror_mode": {
    "name": "ipython",
    "version": 3
   },
   "file_extension": ".py",
   "mimetype": "text/x-python",
   "name": "python",
   "nbconvert_exporter": "python",
   "pygments_lexer": "ipython3",
   "version": "3.8.2"
  }
 },
 "nbformat": 4,
 "nbformat_minor": 4
}
