{
 "cells": [
  {
   "cell_type": "code",
   "execution_count": 132,
   "metadata": {},
   "outputs": [],
   "source": [
    "import glob\n",
    "import pandas as pd\n",
    "import numpy as np\n",
    "import matplotlib.pyplot as plt"
   ]
  },
  {
   "cell_type": "code",
   "execution_count": 133,
   "metadata": {},
   "outputs": [],
   "source": [
    "files = glob.glob('data-to-use/*.csv')"
   ]
  },
  {
   "cell_type": "markdown",
   "metadata": {},
   "source": [
    "Pass in user file, return df for that user"
   ]
  },
  {
   "cell_type": "code",
   "execution_count": 134,
   "metadata": {},
   "outputs": [],
   "source": [
    "def create_user_df(file):\n",
    "    return pd.read_csv(file)"
   ]
  },
  {
   "cell_type": "markdown",
   "metadata": {},
   "source": [
    "Method to return data from a given month in 2020. This is reliant on the df that is set in the above cell"
   ]
  },
  {
   "cell_type": "code",
   "execution_count": 135,
   "metadata": {
    "scrolled": true
   },
   "outputs": [],
   "source": [
    "def retrun_month_df(df,monthInt): \n",
    "    df_youtube_data_month = df[(df['years'] == 2020) & (df['months'] == monthInt) &(df['source'] == 'youtube') ]\n",
    "    df_youtube_data_month['datetime'] = pd.to_datetime(df_youtube_data_month.datetime)\n",
    "    df_youtube_data_month = df_youtube_data_month.sort_values(by='datetime',ascending =True).reset_index()\n",
    "    #print(\"Dataframe Size for month #\"+str(monthInt)+\": \"+str(df_youtube_data_month.shape[0]))\n",
    "    return df_youtube_data_month"
   ]
  },
  {
   "cell_type": "markdown",
   "metadata": {},
   "source": [
    "Method to return a list of the trails found in the passed in dataframe. \n",
    "A trail is currently considered a series of videos watched in a row, with no searches between, and at maximum 5 minutes spent between watching each video, ontop of the duration of the video"
   ]
  },
  {
   "cell_type": "code",
   "execution_count": 146,
   "metadata": {
    "scrolled": true
   },
   "outputs": [],
   "source": [
    "def create_trail_list(month_df):\n",
    "    break_time_minutes = 2\n",
    "    trails = []\n",
    "    current_trail = []\n",
    "    for index, row in month_df.iterrows():\n",
    "        if row['action'] == \"Searched\":\n",
    "            if len(current_trail) != 0:\n",
    "                trails.append(current_trail)\n",
    "            current_trail = [row]\n",
    "        else:\n",
    "            if len(current_trail) == 0:\n",
    "                current_trail.append(row)\n",
    "            else:\n",
    "                eventTimeDif = (row.datetime - current_trail[-1].datetime).seconds\n",
    "                if (pd.notnull(current_trail[-1].durations)):\n",
    "                    difComp = int(current_trail[-1].durations) + (60*break_time_minutes)\n",
    "                else:\n",
    "                    difComp = (60*break_time_minutes)\n",
    "                if (current_trail[-1]['action'] == \"Searched\" and eventTimeDif < (60 * break_time_minutes)) or (eventTimeDif < difComp):\n",
    "                    current_trail.append(row)\n",
    "                else:\n",
    "                    if len(current_trail) != 0:\n",
    "                        trails.append(current_trail)\n",
    "                    current_trail = [row]   \n",
    "    if len(current_trail) > 1:\n",
    "        trails.append(current_trail)\n",
    "    return trails"
   ]
  },
  {
   "cell_type": "markdown",
   "metadata": {},
   "source": [
    "Print out some core details on the list of trails that are passed in"
   ]
  },
  {
   "cell_type": "code",
   "execution_count": 172,
   "metadata": {},
   "outputs": [],
   "source": [
    "def create_month_report(trailsList):\n",
    "    longest = 0\n",
    "    count_five = 0\n",
    "    count = 0\n",
    "    total_length = 0\n",
    "    trails_greater_then_five = generate_num_greater_five(jan_total_trails) \n",
    "    for trail in trailsList:\n",
    "        if len(trail) > longest:\n",
    "            longest = len(trail)\n",
    "        if len(trail) > 4:\n",
    "            count_five += 1\n",
    "        if len(trail) > 1:\n",
    "            count += 1\n",
    "            total_length += len(trail)\n",
    "    print(\"Number of Trails: \"+ str(count))\n",
    "    print(\"Number of Trails of Length Greater then 5: \"+ str(count_five))\n",
    "    print(\"Longest Trail: \"+ str(longest))\n",
    "    print(\"Average path length: \"+str(total_length/count))"
   ]
  },
  {
   "cell_type": "markdown",
   "metadata": {},
   "source": [
    "Generate a dictonary which contains the mean trail distance for that date"
   ]
  },
  {
   "cell_type": "code",
   "execution_count": 173,
   "metadata": {},
   "outputs": [],
   "source": [
    "def generate_trail_means(trails):\n",
    "    trailsByDate = {}\n",
    "    meanByDate = {}\n",
    "    for trail in trails:\n",
    "        if trail[0]['datetime'].date() in list(trailsByDate.keys()):\n",
    "            trailsByDate[trail[0]['datetime'].date()].append(trail)\n",
    "        else:\n",
    "            trailsByDate[trail[0]['datetime'].date()] = [trail]\n",
    "    for date in list(trailsByDate.keys()):\n",
    "        dateSum = 0\n",
    "        for trail in trailsByDate[date]:\n",
    "            dateSum = dateSum + len(trail)\n",
    "        meanByDate[date] = dateSum/len(trailsByDate[date])\n",
    "    print(\"Num of Dates:\",len(meanByDate.keys()))\n",
    "    return meanByDate"
   ]
  },
  {
   "cell_type": "code",
   "execution_count": 174,
   "metadata": {},
   "outputs": [],
   "source": [
    "def generate_num_greater_five(trails):\n",
    "    trailsByDate = {}\n",
    "    numPerDate = {}\n",
    "    for trail in trails:\n",
    "        if trail[0]['datetime'].date() in list(trailsByDate.keys()) and len(trail) > 5:\n",
    "            trailsByDate[trail[0]['datetime'].date()].append(trail)\n",
    "        elif len(trail) > 5:\n",
    "            trailsByDate[trail[0]['datetime'].date()] = [trail]\n",
    "        else:\n",
    "            pass\n",
    "    for trailDate in trailsByDate.keys():\n",
    "        numPerDate[trailDate] = len(trailsByDate[trailDate])\n",
    "    return numPerDate"
   ]
  },
  {
   "cell_type": "markdown",
   "metadata": {},
   "source": [
    "Plot the passed in dictonary, originally intended to use this to plot the mean trail"
   ]
  },
  {
   "cell_type": "code",
   "execution_count": 175,
   "metadata": {},
   "outputs": [],
   "source": [
    "def plot_dic(dic): \n",
    "    lists = sorted(dic.items()) # sorted by key, return a list of tuples\n",
    "    x, y = zip(*lists) # unpack a list of pairs into two tuples\n",
    "    plt.rcParams[\"figure.figsize\"] = (20,10)\n",
    "    plt.plot(x, y)\n",
    "    \n",
    "    plt.show()"
   ]
  },
  {
   "cell_type": "code",
   "execution_count": 176,
   "metadata": {},
   "outputs": [
    {
     "name": "stderr",
     "output_type": "stream",
     "text": [
      "<ipython-input-135-d50ab5ad5caf>:3: SettingWithCopyWarning: \n",
      "A value is trying to be set on a copy of a slice from a DataFrame.\n",
      "Try using .loc[row_indexer,col_indexer] = value instead\n",
      "\n",
      "See the caveats in the documentation: https://pandas.pydata.org/pandas-docs/stable/user_guide/indexing.html#returning-a-view-versus-a-copy\n",
      "  df_youtube_data_month['datetime'] = pd.to_datetime(df_youtube_data_month.datetime)\n"
     ]
    },
    {
     "name": "stdout",
     "output_type": "stream",
     "text": [
      "Number of Trails: 1353\n",
      "Number of Trails of Length Greater then 5: 132\n",
      "Longest Trail: 18\n",
      "Average path length: 2.8226164079822618\n"
     ]
    }
   ],
   "source": [
    "jan_total_trails = []\n",
    "for f in files:\n",
    "    user_df = create_user_df(f)\n",
    "    jan_df = retrun_month_df(user_df,1)\n",
    "    jan_trails = create_trail_list(jan_df)\n",
    "    jan_total_trails += jan_trails\n",
    "create_month_report(jan_total_trails)\n",
    "meanByDate = generate_num_greater_five(jan_total_trails)\n",
    "#plot_dic(meanByDate)"
   ]
  },
  {
   "cell_type": "code",
   "execution_count": 177,
   "metadata": {},
   "outputs": [
    {
     "name": "stderr",
     "output_type": "stream",
     "text": [
      "<ipython-input-135-d50ab5ad5caf>:3: SettingWithCopyWarning: \n",
      "A value is trying to be set on a copy of a slice from a DataFrame.\n",
      "Try using .loc[row_indexer,col_indexer] = value instead\n",
      "\n",
      "See the caveats in the documentation: https://pandas.pydata.org/pandas-docs/stable/user_guide/indexing.html#returning-a-view-versus-a-copy\n",
      "  df_youtube_data_month['datetime'] = pd.to_datetime(df_youtube_data_month.datetime)\n"
     ]
    },
    {
     "name": "stdout",
     "output_type": "stream",
     "text": [
      "Number of Trails: 1510\n",
      "Number of Trails of Length Greater then 5: 206\n",
      "Longest Trail: 26\n",
      "Average path length: 3.1867549668874173\n"
     ]
    }
   ],
   "source": [
    "feb_total_trails = []\n",
    "for f in files:\n",
    "    user_df = create_user_df(f)\n",
    "    feb_df = retrun_month_df(user_df,2)\n",
    "    feb_trails = create_trail_list(feb_df)\n",
    "    feb_total_trails += feb_trails\n",
    "create_month_report(feb_total_trails)\n",
    "meanByDate = generate_num_greater_five(feb_total_trails)\n",
    "#plot_dic(meanByDate)"
   ]
  },
  {
   "cell_type": "code",
   "execution_count": 178,
   "metadata": {},
   "outputs": [
    {
     "name": "stderr",
     "output_type": "stream",
     "text": [
      "<ipython-input-135-d50ab5ad5caf>:3: SettingWithCopyWarning: \n",
      "A value is trying to be set on a copy of a slice from a DataFrame.\n",
      "Try using .loc[row_indexer,col_indexer] = value instead\n",
      "\n",
      "See the caveats in the documentation: https://pandas.pydata.org/pandas-docs/stable/user_guide/indexing.html#returning-a-view-versus-a-copy\n",
      "  df_youtube_data_month['datetime'] = pd.to_datetime(df_youtube_data_month.datetime)\n"
     ]
    },
    {
     "name": "stdout",
     "output_type": "stream",
     "text": [
      "Number of Trails: 1846\n",
      "Number of Trails of Length Greater then 5: 258\n",
      "Longest Trail: 42\n",
      "Average path length: 3.1348862405200433\n"
     ]
    }
   ],
   "source": [
    "march_total_trails = []\n",
    "for f in files:\n",
    "    user_df = create_user_df(f)\n",
    "    march_df = retrun_month_df(user_df,3)\n",
    "    march_trails = create_trail_list(march_df)\n",
    "    march_total_trails += march_trails\n",
    "create_month_report(march_total_trails)\n",
    "meanByDate = generate_num_greater_five(march_total_trails)\n",
    "#plot_dic(meanByDate)"
   ]
  },
  {
   "cell_type": "code",
   "execution_count": 179,
   "metadata": {},
   "outputs": [
    {
     "name": "stderr",
     "output_type": "stream",
     "text": [
      "<ipython-input-135-d50ab5ad5caf>:3: SettingWithCopyWarning: \n",
      "A value is trying to be set on a copy of a slice from a DataFrame.\n",
      "Try using .loc[row_indexer,col_indexer] = value instead\n",
      "\n",
      "See the caveats in the documentation: https://pandas.pydata.org/pandas-docs/stable/user_guide/indexing.html#returning-a-view-versus-a-copy\n",
      "  df_youtube_data_month['datetime'] = pd.to_datetime(df_youtube_data_month.datetime)\n"
     ]
    },
    {
     "name": "stdout",
     "output_type": "stream",
     "text": [
      "Number of Trails: 2589\n",
      "Number of Trails of Length Greater then 5: 291\n",
      "Longest Trail: 30\n",
      "Average path length: 2.966782541521823\n"
     ]
    }
   ],
   "source": [
    "april_total_trails = []\n",
    "for f in files:\n",
    "    user_df = create_user_df(f)\n",
    "    april_df = retrun_month_df(user_df,4)\n",
    "    april_trails = create_trail_list(april_df)\n",
    "    april_total_trails += april_trails\n",
    "create_month_report(april_total_trails)\n",
    "meanByDate = generate_num_greater_five(april_total_trails)\n",
    "#plot_dic(meanByDate)"
   ]
  },
  {
   "cell_type": "code",
   "execution_count": 180,
   "metadata": {},
   "outputs": [
    {
     "name": "stderr",
     "output_type": "stream",
     "text": [
      "<ipython-input-135-d50ab5ad5caf>:3: SettingWithCopyWarning: \n",
      "A value is trying to be set on a copy of a slice from a DataFrame.\n",
      "Try using .loc[row_indexer,col_indexer] = value instead\n",
      "\n",
      "See the caveats in the documentation: https://pandas.pydata.org/pandas-docs/stable/user_guide/indexing.html#returning-a-view-versus-a-copy\n",
      "  df_youtube_data_month['datetime'] = pd.to_datetime(df_youtube_data_month.datetime)\n"
     ]
    },
    {
     "name": "stdout",
     "output_type": "stream",
     "text": [
      "Number of Trails: 2485\n",
      "Number of Trails of Length Greater then 5: 249\n",
      "Longest Trail: 40\n",
      "Average path length: 2.8929577464788734\n"
     ]
    }
   ],
   "source": [
    "may_total_trails = []\n",
    "for f in files:\n",
    "    user_df = create_user_df(f)\n",
    "    may_df = retrun_month_df(user_df,5)\n",
    "    may_trails = create_trail_list(may_df)\n",
    "    may_total_trails += may_trails\n",
    "create_month_report(may_total_trails)\n",
    "meanByDate = generate_num_greater_five(may_total_trails)\n",
    "#plot_dic(meanByDate)"
   ]
  },
  {
   "cell_type": "code",
   "execution_count": 181,
   "metadata": {},
   "outputs": [
    {
     "data": {
      "image/png": "[encoded data removed]",
      "text/plain": [
       "<Figure size 1440x720 with 1 Axes>"
      ]
     },
     "metadata": {
      "needs_background": "light"
     },
     "output_type": "display_data"
    }
   ],
   "source": [
    "dic = {1:311,2:403,3:494,4:623,5:538}\n",
    "lists = sorted(dic.items()) # sorted by key, return a list of tuples\n",
    "x, y = zip(*lists) # unpack a list of pairs into two tuples\n",
    "plt.rcParams[\"figure.figsize\"] = (20,10)\n",
    "plt.plot(x, y)\n",
    "\n",
    "plt.show()"
   ]
  },
  {
   "cell_type": "code",
   "execution_count": null,
   "metadata": {},
   "outputs": [],
   "source": []
  },
  {
   "cell_type": "code",
   "execution_count": null,
   "metadata": {},
   "outputs": [],
   "source": []
  }
 ],
 "metadata": {
  "kernelspec": {
   "display_name": "Python 3",
   "language": "python",
   "name": "python3"
  },
  "language_info": {
   "codemirror_mode": {
    "name": "ipython",
    "version": 3
   },
   "file_extension": ".py",
   "mimetype": "text/x-python",
   "name": "python",
   "nbconvert_exporter": "python",
   "pygments_lexer": "ipython3",
   "version": "3.8.2"
  }
 },
 "nbformat": 4,
 "nbformat_minor": 4
}
