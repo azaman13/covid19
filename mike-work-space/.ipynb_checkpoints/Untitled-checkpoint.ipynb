{
 "cells": [
  {
   "cell_type": "code",
   "execution_count": 4,
   "metadata": {},
   "outputs": [],
   "source": [
    "import glob\n",
    "import pandas as pd\n",
    "import numpy as np\n",
    "import matplotlib.pyplot as plt\n",
    "import matplotlib"
   ]
  },
  {
   "cell_type": "code",
   "execution_count": 11,
   "metadata": {},
   "outputs": [],
   "source": [
    "files = glob.glob('data-to-use/*.csv')"
   ]
  },
  {
   "cell_type": "code",
   "execution_count": 59,
   "metadata": {},
   "outputs": [
    {
     "name": "stdout",
     "output_type": "stream",
     "text": [
      "6511\n"
     ]
    }
   ],
   "source": [
    "df_2020 = pd.DataFrame(columns= pd.read_csv(files[0]).columns)\n",
    "for f in files:\n",
    "    df = pd.read_csv(f)\n",
    "    df_2020 = df_2020.append(df[(df.years == 2020)],ignore_index= True)\n",
    "\n",
    "df = df_2020[(df_2020['query'].notna())]\n",
    "urls = []\n",
    "for index, row in df.iterrows():\n",
    "    if \".com\" in row.query.lower(): #add conditionals add needed to this if statement to narrow results\n",
    "        url = [i for i in row.query.lower().split(\" \") if \".com\" in i]\n",
    "        print(len(url))\n",
    "        urls.append(row.query)\n",
    "print(len(urls))\n",
    "        "
   ]
  },
  {
   "cell_type": "code",
   "execution_count": null,
   "metadata": {},
   "outputs": [],
   "source": []
  }
 ],
 "metadata": {
  "kernelspec": {
   "display_name": "Python 3",
   "language": "python",
   "name": "python3"
  },
  "language_info": {
   "codemirror_mode": {
    "name": "ipython",
    "version": 3
   },
   "file_extension": ".py",
   "mimetype": "text/x-python",
   "name": "python",
   "nbconvert_exporter": "python",
   "pygments_lexer": "ipython3",
   "version": "3.8.2"
  }
 },
 "nbformat": 4,
 "nbformat_minor": 4
}
