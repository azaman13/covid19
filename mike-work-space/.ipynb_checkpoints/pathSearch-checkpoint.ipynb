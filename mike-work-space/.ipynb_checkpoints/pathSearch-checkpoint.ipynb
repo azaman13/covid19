{
 "cells": [
  {
   "cell_type": "code",
   "execution_count": 4,
   "metadata": {},
   "outputs": [],
   "source": [
    "import glob\n",
    "import pandas as pd\n",
    "import numpy as np\n",
    "import matplotlib.pyplot as plt"
   ]
  },
  {
   "cell_type": "code",
   "execution_count": 18,
   "metadata": {},
   "outputs": [],
   "source": [
    "files = glob.glob('new_data/*.csv')"
   ]
  },
  {
   "cell_type": "markdown",
   "metadata": {},
   "source": [
    "Pass in user file, return df for that user"
   ]
  },
  {
   "cell_type": "markdown",
   "metadata": {},
   "source": [
    "Method to return data from a given month in 2020. This is reliant on the df that is set in the above cell"
   ]
  },
  {
   "cell_type": "code",
   "execution_count": 28,
   "metadata": {
    "scrolled": true
   },
   "outputs": [],
   "source": [
    "def retrun_month_df(file): \n",
    "    df = pd.read_csv(file)\n",
    "    df_youtube_data_month = df[(df['years'] == 2020) &(df['source'] == 'youtube') ]\n",
    "    df_youtube_data_month['datetime'] = pd.to_datetime(df_youtube_data_month.datetime)\n",
    "    df_youtube_data_month = df_youtube_data_month.sort_values(by='datetime',ascending =True).reset_index()\n",
    "    print(\"Dataframe Size for month #\"+str(monthInt)+\": \"+str(df_youtube_data_month.shape[0]))\n",
    "    return df_youtube_data_month"
   ]
  },
  {
   "cell_type": "markdown",
   "metadata": {},
   "source": [
    "Method to return a list of the trails found in the passed in dataframe. \n",
    "A trail is currently considered a series of videos watched in a row, with no searches between, and at maximum 5 minutes spent between watching each video, ontop of the duration of the video"
   ]
  },
  {
   "cell_type": "code",
   "execution_count": 8,
   "metadata": {
    "scrolled": true
   },
   "outputs": [],
   "source": [
    "def create_trail_list(month_df):\n",
    "    break_time_minutes = 5\n",
    "    trails = []\n",
    "    current_trail = []\n",
    "    for index, row in month_df.iterrows():\n",
    "        if row['action'] == \"Searched\":\n",
    "            if len(current_trail) != 0:\n",
    "                trails.append(current_trail)\n",
    "            current_trail = [row]\n",
    "        else:\n",
    "            if len(current_trail) == 0:\n",
    "                current_trail.append(row)\n",
    "            else:\n",
    "                eventTimeDif = (row.datetime - current_trail[-1].datetime).seconds\n",
    "                if (pd.notnull(current_trail[-1].durations)):\n",
    "                    difComp = int(current_trail[-1].durations) + (60*break_time_minutes)\n",
    "                else:\n",
    "                    difComp = (60*break_time_minutes)\n",
    "                if (current_trail[-1]['action'] == \"Searched\" and eventTimeDif < (60 * break_time_minutes)) or (eventTimeDif < difComp):\n",
    "                    current_trail.append(row)\n",
    "                else:\n",
    "                    if len(current_trail) != 0:\n",
    "                        trails.append(current_trail)\n",
    "                    current_trail = [row]   \n",
    "    if len(current_trail) > 1:\n",
    "        trails.append(current_trail)\n",
    "    return trails"
   ]
  },
  {
   "cell_type": "markdown",
   "metadata": {},
   "source": [
    "Print out some core details on the list of trails that are passed in"
   ]
  },
  {
   "cell_type": "code",
   "execution_count": 16,
   "metadata": {},
   "outputs": [],
   "source": [
    "def create_month_report(trailsList):\n",
    "    longest = 0\n",
    "    count_five = 0\n",
    "    count = 0\n",
    "    total_length = 0\n",
    "    for trail in trailsList:\n",
    "        if len(trail) > longest:\n",
    "            longest = len(trail)\n",
    "        if len(trail) > 19:\n",
    "            count_five += 1\n",
    "        if len(trail) > 1:\n",
    "            count += 1\n",
    "            total_length += len(trail)\n",
    "    print(\"Number of Trails: \"+ str(count))\n",
    "    print(\"Number of Trails of Length Greater then 20: \"+ str(count_five))\n",
    "    print(\"Longest Trail: \"+ str(longest))\n",
    "    print(\"Average path length: \"+str(total_length/count))"
   ]
  },
  {
   "cell_type": "markdown",
   "metadata": {},
   "source": [
    "Generate a dictonary which contains the mean trail distance for that date"
   ]
  },
  {
   "cell_type": "code",
   "execution_count": 10,
   "metadata": {},
   "outputs": [],
   "source": [
    "def generate_trail_means(trails):\n",
    "    trailsByDate = {}\n",
    "    meanByDate = {}\n",
    "    for trail in trails:\n",
    "        if trail[0]['datetime'].date() in list(trailsByDate.keys()):\n",
    "            trailsByDate[trail[0]['datetime'].date()].append(trail)\n",
    "        else:\n",
    "            trailsByDate[trail[0]['datetime'].date()] = [trail]\n",
    "    for date in list(trailsByDate.keys()):\n",
    "        dateSum = 0\n",
    "        for trail in trailsByDate[date]:\n",
    "            dateSum = dateSum + len(trail)\n",
    "        meanByDate[date] = dateSum/len(trailsByDate[date])\n",
    "    return meanByDate"
   ]
  },
  {
   "cell_type": "code",
   "execution_count": 11,
   "metadata": {},
   "outputs": [],
   "source": [
    "def generate_trail_count_per_day(trails):\n",
    "    trailsByDate = {}\n",
    "    meanByDate = {}\n",
    "    for trail in trails:\n",
    "        if trail[0]['datetime'].date() in list(trailsByDate.keys()):\n",
    "            trailsByDate[trail[0]['datetime'].date()].append(trail)\n",
    "        else:\n",
    "            trailsByDate[trail[0]['datetime'].date()] = [trail]\n",
    "    for i in trailsByDate.keys():\n",
    "        trailsByDate[i] = len(trailsByDate[i])\n",
    "    return trailsByDate"
   ]
  },
  {
   "cell_type": "code",
   "execution_count": 12,
   "metadata": {},
   "outputs": [],
   "source": [
    "def generate_num_greater_five(trails):\n",
    "    trailsByDate = {}\n",
    "    numPerDate = {}\n",
    "    for trail in trails:\n",
    "        if trail[0]['datetime'].date() in list(trailsByDate.keys()) and len(trail) > 5:\n",
    "            trailsByDate[trail[0]['datetime'].date()].append(trail)\n",
    "        elif len(trail) > 5:\n",
    "            trailsByDate[trail[0]['datetime'].date()] = [trail]\n",
    "        else:\n",
    "            pass\n",
    "    for trailDate in trailsByDate.keys():\n",
    "        numPerDate[trailDate] = len(trailsByDate[trailDate])\n",
    "    return numPerDate"
   ]
  },
  {
   "cell_type": "markdown",
   "metadata": {},
   "source": [
    "Plot the passed in dictonary, originally intended to use this to plot the mean trail"
   ]
  },
  {
   "cell_type": "code",
   "execution_count": 13,
   "metadata": {},
   "outputs": [],
   "source": [
    "def plot_dic(dic,dic2): \n",
    "    lists = sorted(dic.items()) # sorted by key, return a list of tuples\n",
    "    x, y = zip(*lists) # unpack a list of pairs into two tuples\n",
    "    plt.rcParams[\"figure.figsize\"] = (20,10)\n",
    "    plt.ylim(0,400)\n",
    "    plt.plot(x, y)\n",
    "    plt.plot\n",
    "    \n",
    "    plt.show()"
   ]
  },
  {
   "cell_type": "code",
   "execution_count": 26,
   "metadata": {},
   "outputs": [],
   "source": [
    "def return_all_trails():\n",
    "    total_trails = []\n",
    "    for f in files:\n",
    "        df = retrun_month_df(f)\n",
    "        trails = create_trail_list(df)\n",
    "        total_trails += trails\n",
    "    create_month_report(total_trails)\n",
    "    trailCounts = generate_trail_count_per_day(total_trails)\n",
    "    return trailCounts"
   ]
  },
  {
   "cell_type": "code",
   "execution_count": 23,
   "metadata": {},
   "outputs": [
    {
     "name": "stderr",
     "output_type": "stream",
     "text": [
      "<ipython-input-7-d50ab5ad5caf>:3: SettingWithCopyWarning: \n",
      "A value is trying to be set on a copy of a slice from a DataFrame.\n",
      "Try using .loc[row_indexer,col_indexer] = value instead\n",
      "\n",
      "See the caveats in the documentation: https://pandas.pydata.org/pandas-docs/stable/user_guide/indexing.html#returning-a-view-versus-a-copy\n",
      "  df_youtube_data_month['datetime'] = pd.to_datetime(df_youtube_data_month.datetime)\n"
     ]
    },
    {
     "name": "stdout",
     "output_type": "stream",
     "text": [
      "Number of Trails: 1546\n",
      "Number of Trails of Length Greater then 20: 10\n",
      "Longest Trail: 28\n",
      "Average path length: 3.276196636481242\n"
     ]
    },
    {
     "ename": "TypeError",
     "evalue": "plot_dic() missing 1 required positional argument: 'dic2'",
     "output_type": "error",
     "traceback": [
      "\u001b[0;31m---------------------------------------------------------------------------\u001b[0m",
      "\u001b[0;31mTypeError\u001b[0m                                 Traceback (most recent call last)",
      "\u001b[0;32m<ipython-input-23-5ad636265c2b>\u001b[0m in \u001b[0;36m<module>\u001b[0;34m\u001b[0m\n\u001b[1;32m      7\u001b[0m \u001b[0mcreate_month_report\u001b[0m\u001b[0;34m(\u001b[0m\u001b[0mjan_total_trails\u001b[0m\u001b[0;34m)\u001b[0m\u001b[0;34m\u001b[0m\u001b[0;34m\u001b[0m\u001b[0m\n\u001b[1;32m      8\u001b[0m \u001b[0mtrailCounts\u001b[0m \u001b[0;34m=\u001b[0m \u001b[0mgenerate_trail_count_per_day\u001b[0m\u001b[0;34m(\u001b[0m\u001b[0mjan_total_trails\u001b[0m\u001b[0;34m)\u001b[0m\u001b[0;34m\u001b[0m\u001b[0;34m\u001b[0m\u001b[0m\n\u001b[0;32m----> 9\u001b[0;31m \u001b[0mplot_dic\u001b[0m\u001b[0;34m(\u001b[0m\u001b[0mtrailCounts\u001b[0m\u001b[0;34m)\u001b[0m\u001b[0;34m\u001b[0m\u001b[0;34m\u001b[0m\u001b[0m\n\u001b[0m",
      "\u001b[0;31mTypeError\u001b[0m: plot_dic() missing 1 required positional argument: 'dic2'"
     ]
    }
   ],
   "source": [
    "jan_total_trails = []\n",
    "for f in files:\n",
    "    user_df = create_user_df(f)\n",
    "    jan_df = retrun_month_df(user_df,1)\n",
    "    jan_trails = create_trail_list(jan_df)\n",
    "    jan_total_trails += jan_trails\n",
    "create_month_report(jan_total_trails)\n",
    "trailCounts = generate_trail_count_per_day(jan_total_trails)\n",
    "plot_dic(trailCounts)"
   ]
  },
  {
   "cell_type": "code",
   "execution_count": null,
   "metadata": {},
   "outputs": [],
   "source": [
    "feb_total_trails = []\n",
    "for f in files:\n",
    "    user_df = create_user_df(f)\n",
    "    feb_df = retrun_month_df(user_df,2)\n",
    "    feb_trails = create_trail_list(feb_df)\n",
    "    feb_total_trails += feb_trails\n",
    "create_month_report(feb_total_trails)\n",
    "trailCounts = generate_trail_count_per_day(feb_total_trails)\n",
    "plot_dic(trailCounts)"
   ]
  },
  {
   "cell_type": "code",
   "execution_count": null,
   "metadata": {},
   "outputs": [],
   "source": [
    "march_total_trails = []\n",
    "for f in files:\n",
    "    user_df = create_user_df(f)\n",
    "    march_df = retrun_month_df(user_df,3)\n",
    "    march_trails = create_trail_list(march_df)\n",
    "    march_total_trails += march_trails\n",
    "create_month_report(march_total_trails)\n",
    "trailCounts = generate_trail_count_per_day(march_total_trails)\n",
    "plot_dic(trailCounts)"
   ]
  },
  {
   "cell_type": "code",
   "execution_count": null,
   "metadata": {},
   "outputs": [],
   "source": [
    "april_total_trails = []\n",
    "for f in files:\n",
    "    user_df = create_user_df(f)\n",
    "    april_df = retrun_month_df(user_df,4)\n",
    "    april_trails = create_trail_list(april_df)\n",
    "    april_total_trails += april_trails\n",
    "create_month_report(april_total_trails)\n",
    "trailCounts = generate_trail_count_per_day(april_total_trails)\n",
    "plot_dic(trailCounts)"
   ]
  },
  {
   "cell_type": "code",
   "execution_count": null,
   "metadata": {},
   "outputs": [],
   "source": [
    "may_total_trails = []\n",
    "for f in files:\n",
    "    user_df = create_user_df(f)\n",
    "    may_df = retrun_month_df(user_df,5)\n",
    "    may_trails = create_trail_list(may_df)\n",
    "    may_total_trails += may_trails\n",
    "create_month_report(may_total_trails)\n",
    "trailCounts = generate_trail_count_per_day(may_total_trails)\n",
    "plot_dic(trailCounts)"
   ]
  },
  {
   "cell_type": "code",
   "execution_count": null,
   "metadata": {},
   "outputs": [],
   "source": []
  },
  {
   "cell_type": "code",
   "execution_count": null,
   "metadata": {},
   "outputs": [],
   "source": []
  },
  {
   "cell_type": "code",
   "execution_count": 27,
   "metadata": {},
   "outputs": [
    {
     "name": "stdout",
     "output_type": "stream",
     "text": [
      "Dataframe Size for month #1: 0\n",
      "Dataframe Size for month #2: 0\n",
      "Dataframe Size for month #3: 0\n",
      "Dataframe Size for month #4: 0\n",
      "Dataframe Size for month #5: 0\n",
      "Dataframe Size for month #1: 15\n",
      "Dataframe Size for month #2: 3\n",
      "Dataframe Size for month #3: 31\n",
      "Dataframe Size for month #4: 2\n",
      "Dataframe Size for month #5: 1\n",
      "Dataframe Size for month #1: 0\n",
      "Dataframe Size for month #2: 0\n",
      "Dataframe Size for month #3: 0\n",
      "Dataframe Size for month #4: 0\n",
      "Dataframe Size for month #5: 0\n",
      "Dataframe Size for month #1: 1\n",
      "Dataframe Size for month #2: 7\n",
      "Dataframe Size for month #3: 9\n",
      "Dataframe Size for month #4: 117\n"
     ]
    },
    {
     "name": "stderr",
     "output_type": "stream",
     "text": [
      "<ipython-input-25-e1d9ec6e44cd>:4: SettingWithCopyWarning: \n",
      "A value is trying to be set on a copy of a slice from a DataFrame.\n",
      "Try using .loc[row_indexer,col_indexer] = value instead\n",
      "\n",
      "See the caveats in the documentation: https://pandas.pydata.org/pandas-docs/stable/user_guide/indexing.html#returning-a-view-versus-a-copy\n",
      "  df_youtube_data_month['datetime'] = pd.to_datetime(df_youtube_data_month.datetime)\n"
     ]
    },
    {
     "name": "stdout",
     "output_type": "stream",
     "text": [
      "Dataframe Size for month #5: 796\n",
      "Dataframe Size for month #1: 302\n",
      "Dataframe Size for month #2: 338\n",
      "Dataframe Size for month #3: 204\n",
      "Dataframe Size for month #4: 288\n",
      "Dataframe Size for month #5: 303\n",
      "Dataframe Size for month #1: 658\n",
      "Dataframe Size for month #2: 1012\n",
      "Dataframe Size for month #3: 906\n",
      "Dataframe Size for month #4: 815\n",
      "Dataframe Size for month #5: 1130\n",
      "Dataframe Size for month #1: 328\n",
      "Dataframe Size for month #2: 182\n",
      "Dataframe Size for month #3: 458\n",
      "Dataframe Size for month #4: 570\n",
      "Dataframe Size for month #5: 511\n",
      "Dataframe Size for month #1: 0\n",
      "Dataframe Size for month #2: 75\n",
      "Dataframe Size for month #3: 266\n",
      "Dataframe Size for month #4: 876\n",
      "Dataframe Size for month #5: 1116\n",
      "Dataframe Size for month #1: 0\n",
      "Dataframe Size for month #2: 0\n",
      "Dataframe Size for month #3: 0\n",
      "Dataframe Size for month #4: 0\n",
      "Dataframe Size for month #5: 0\n",
      "Dataframe Size for month #1: 736\n",
      "Dataframe Size for month #2: 745\n",
      "Dataframe Size for month #3: 1459\n",
      "Dataframe Size for month #4: 1541\n",
      "Dataframe Size for month #5: 1189\n",
      "Dataframe Size for month #1: 0\n",
      "Dataframe Size for month #2: 0\n",
      "Dataframe Size for month #3: 5\n",
      "Dataframe Size for month #4: 7\n",
      "Dataframe Size for month #5: 34\n",
      "Dataframe Size for month #1: 461\n",
      "Dataframe Size for month #2: 700\n",
      "Dataframe Size for month #3: 1146\n",
      "Dataframe Size for month #4: 1297\n",
      "Dataframe Size for month #5: 1267\n",
      "Dataframe Size for month #1: 68\n",
      "Dataframe Size for month #2: 102\n",
      "Dataframe Size for month #3: 98\n",
      "Dataframe Size for month #4: 205\n",
      "Dataframe Size for month #5: 74\n",
      "Dataframe Size for month #1: 787\n",
      "Dataframe Size for month #2: 1103\n",
      "Dataframe Size for month #3: 919\n",
      "Dataframe Size for month #4: 1676\n",
      "Dataframe Size for month #5: 1561\n",
      "Dataframe Size for month #1: 900\n",
      "Dataframe Size for month #2: 800\n",
      "Dataframe Size for month #3: 693\n",
      "Dataframe Size for month #4: 1173\n",
      "Dataframe Size for month #5: 582\n",
      "Dataframe Size for month #1: 23\n",
      "Dataframe Size for month #2: 90\n",
      "Dataframe Size for month #3: 22\n",
      "Dataframe Size for month #4: 63\n",
      "Dataframe Size for month #5: 103\n",
      "Dataframe Size for month #1: 360\n",
      "Dataframe Size for month #2: 539\n",
      "Dataframe Size for month #3: 476\n",
      "Dataframe Size for month #4: 694\n",
      "Dataframe Size for month #5: 437\n",
      "Dataframe Size for month #1: 81\n",
      "Dataframe Size for month #2: 47\n",
      "Dataframe Size for month #3: 128\n",
      "Dataframe Size for month #4: 74\n",
      "Dataframe Size for month #5: 133\n",
      "Dataframe Size for month #1: 81\n",
      "Dataframe Size for month #2: 47\n",
      "Dataframe Size for month #3: 128\n",
      "Dataframe Size for month #4: 74\n",
      "Dataframe Size for month #5: 133\n",
      "Dataframe Size for month #1: 217\n",
      "Dataframe Size for month #2: 154\n",
      "Dataframe Size for month #3: 173\n",
      "Dataframe Size for month #4: 164\n",
      "Dataframe Size for month #5: 108\n",
      "Dataframe Size for month #1: 213\n",
      "Dataframe Size for month #2: 187\n",
      "Dataframe Size for month #3: 211\n",
      "Dataframe Size for month #4: 318\n",
      "Dataframe Size for month #5: 404\n",
      "Dataframe Size for month #1: 5\n",
      "Dataframe Size for month #2: 11\n",
      "Dataframe Size for month #3: 25\n",
      "Dataframe Size for month #4: 35\n",
      "Dataframe Size for month #5: 21\n",
      "Dataframe Size for month #1: 187\n",
      "Dataframe Size for month #2: 533\n",
      "Dataframe Size for month #3: 329\n",
      "Dataframe Size for month #4: 221\n",
      "Dataframe Size for month #5: 108\n",
      "Dataframe Size for month #1: 218\n",
      "Dataframe Size for month #2: 96\n",
      "Dataframe Size for month #3: 92\n",
      "Dataframe Size for month #4: 229\n",
      "Dataframe Size for month #5: 191\n",
      "Dataframe Size for month #1: 120\n",
      "Dataframe Size for month #2: 139\n",
      "Dataframe Size for month #3: 112\n",
      "Dataframe Size for month #4: 111\n",
      "Dataframe Size for month #5: 80\n",
      "Dataframe Size for month #1: 0\n",
      "Dataframe Size for month #2: 0\n",
      "Dataframe Size for month #3: 0\n",
      "Dataframe Size for month #4: 0\n",
      "Dataframe Size for month #5: 0\n",
      "Dataframe Size for month #1: 2\n",
      "Dataframe Size for month #2: 46\n",
      "Dataframe Size for month #3: 73\n",
      "Dataframe Size for month #4: 5\n",
      "Dataframe Size for month #5: 7\n",
      "Dataframe Size for month #1: 23\n",
      "Dataframe Size for month #2: 90\n",
      "Dataframe Size for month #3: 22\n",
      "Dataframe Size for month #4: 63\n",
      "Dataframe Size for month #5: 103\n",
      "Dataframe Size for month #1: 0\n",
      "Dataframe Size for month #2: 0\n",
      "Dataframe Size for month #3: 0\n",
      "Dataframe Size for month #4: 0\n",
      "Dataframe Size for month #5: 0\n",
      "Dataframe Size for month #1: 289\n",
      "Dataframe Size for month #2: 341\n",
      "Dataframe Size for month #3: 480\n",
      "Dataframe Size for month #4: 426\n",
      "Dataframe Size for month #5: 284\n",
      "Dataframe Size for month #1: 8\n",
      "Dataframe Size for month #2: 41\n",
      "Dataframe Size for month #3: 73\n",
      "Dataframe Size for month #4: 120\n",
      "Dataframe Size for month #5: 19\n",
      "Dataframe Size for month #1: 410\n",
      "Dataframe Size for month #2: 224\n",
      "Dataframe Size for month #3: 541\n",
      "Dataframe Size for month #4: 369\n",
      "Dataframe Size for month #5: 503\n",
      "Dataframe Size for month #1: 439\n",
      "Dataframe Size for month #2: 603\n",
      "Dataframe Size for month #3: 583\n",
      "Dataframe Size for month #4: 934\n",
      "Dataframe Size for month #5: 610\n",
      "Dataframe Size for month #1: 156\n",
      "Dataframe Size for month #2: 103\n",
      "Dataframe Size for month #3: 229\n",
      "Dataframe Size for month #4: 236\n",
      "Dataframe Size for month #5: 139\n",
      "Dataframe Size for month #1: 142\n",
      "Dataframe Size for month #2: 35\n",
      "Dataframe Size for month #3: 130\n",
      "Dataframe Size for month #4: 442\n",
      "Dataframe Size for month #5: 960\n",
      "Dataframe Size for month #1: 214\n",
      "Dataframe Size for month #2: 127\n",
      "Dataframe Size for month #3: 154\n",
      "Dataframe Size for month #4: 185\n",
      "Dataframe Size for month #5: 72\n",
      "Dataframe Size for month #1: 36\n",
      "Dataframe Size for month #2: 32\n",
      "Dataframe Size for month #3: 146\n",
      "Dataframe Size for month #4: 100\n",
      "Dataframe Size for month #5: 29\n",
      "Number of Trails: 10462\n",
      "Number of Trails of Length Greater then 20: 79\n",
      "Longest Trail: 64\n",
      "Average path length: 3.5622251959472377\n"
     ]
    },
    {
     "ename": "TypeError",
     "evalue": "plot_dic() missing 1 required positional argument: 'dic2'",
     "output_type": "error",
     "traceback": [
      "\u001b[0;31m---------------------------------------------------------------------------\u001b[0m",
      "\u001b[0;31mTypeError\u001b[0m                                 Traceback (most recent call last)",
      "\u001b[0;32m<ipython-input-27-d4ed591c2f64>\u001b[0m in \u001b[0;36m<module>\u001b[0;34m\u001b[0m\n\u001b[1;32m      1\u001b[0m \u001b[0mtrails\u001b[0m \u001b[0;34m=\u001b[0m \u001b[0mreturn_all_trails\u001b[0m\u001b[0;34m(\u001b[0m\u001b[0;34m)\u001b[0m\u001b[0;34m\u001b[0m\u001b[0;34m\u001b[0m\u001b[0m\n\u001b[0;32m----> 2\u001b[0;31m \u001b[0mplot_dic\u001b[0m\u001b[0;34m(\u001b[0m\u001b[0mtrails\u001b[0m\u001b[0;34m)\u001b[0m\u001b[0;34m\u001b[0m\u001b[0;34m\u001b[0m\u001b[0m\n\u001b[0m",
      "\u001b[0;31mTypeError\u001b[0m: plot_dic() missing 1 required positional argument: 'dic2'"
     ]
    }
   ],
   "source": [
    "trails = return_all_trails()\n",
    "plot_dic(trails)"
   ]
  },
  {
   "cell_type": "code",
   "execution_count": null,
   "metadata": {},
   "outputs": [],
   "source": []
  },
  {
   "cell_type": "code",
   "execution_count": null,
   "metadata": {},
   "outputs": [],
   "source": []
  },
  {
   "cell_type": "code",
   "execution_count": null,
   "metadata": {},
   "outputs": [],
   "source": []
  },
  {
   "cell_type": "code",
   "execution_count": null,
   "metadata": {},
   "outputs": [],
   "source": []
  },
  {
   "cell_type": "code",
   "execution_count": null,
   "metadata": {},
   "outputs": [],
   "source": []
  },
  {
   "cell_type": "code",
   "execution_count": null,
   "metadata": {},
   "outputs": [],
   "source": []
  }
 ],
 "metadata": {
  "kernelspec": {
   "display_name": "Python 3",
   "language": "python",
   "name": "python3"
  },
  "language_info": {
   "codemirror_mode": {
    "name": "ipython",
    "version": 3
   },
   "file_extension": ".py",
   "mimetype": "text/x-python",
   "name": "python",
   "nbconvert_exporter": "python",
   "pygments_lexer": "ipython3",
   "version": "3.8.2"
  }
 },
 "nbformat": 4,
 "nbformat_minor": 4
}
