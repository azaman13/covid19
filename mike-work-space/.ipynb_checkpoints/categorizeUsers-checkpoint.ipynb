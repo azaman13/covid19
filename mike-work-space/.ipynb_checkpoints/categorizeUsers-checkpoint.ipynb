{
 "cells": [
  {
   "cell_type": "code",
   "execution_count": 10,
   "metadata": {},
   "outputs": [],
   "source": [
    "import glob\n",
    "import pandas as pd\n",
    "import numpy as np\n",
    "import matplotlib.pyplot as plt"
   ]
  },
  {
   "cell_type": "code",
   "execution_count": 11,
   "metadata": {},
   "outputs": [],
   "source": [
    "files = glob.glob('data-to-use/*.csv')"
   ]
  },
  {
   "cell_type": "code",
   "execution_count": null,
   "metadata": {},
   "outputs": [],
   "source": [
    "def create_user_df(file):\n",
    "    return pd.read_csv(file)"
   ]
  },
  {
   "cell_type": "markdown",
   "metadata": {},
   "source": [
    "The purpose of this file is to help us understand how many active users our data set has, and establish standardized methods for retriving this data"
   ]
  },
  {
   "cell_type": "code",
   "execution_count": 23,
   "metadata": {},
   "outputs": [],
   "source": [
    "def retrun_month_df(df,month,year): \n",
    "    df_youtube_data_month = df[(df['years'] == year) & (df['months'] == month) &(df['source'] == 'youtube') ]\n",
    "    df_youtube_data_month['datetime'] = pd.to_datetime(df_youtube_data_month.datetime)\n",
    "    df_youtube_data_month = df_youtube_data_month.sort_values(by='datetime',ascending =True).reset_index()\n",
    "    #print(\"Dataframe Size for month #\"+str(month)+\": \"+str(df_youtube_data_month.shape[0]))\n",
    "    return df_youtube_data_month"
   ]
  },
  {
   "cell_type": "code",
   "execution_count": 63,
   "metadata": {},
   "outputs": [],
   "source": [
    "def return_active_accounts(minEventCount,lastDateForFull,year,months_to_check):\n",
    "\n",
    "    userDic = {}\n",
    "    goodUsers = []\n",
    "    for file in files:\n",
    "        goodMonths = []\n",
    "        df = create_user_df(file)\n",
    "        for month in range(1,12):\n",
    "            if retrun_month_df(df,month,year).shape[0] > minEventCount and max(retrun_month_df(df,month,year)['datetime']).day > lastDateForFull:\n",
    "                goodMonths.append(month)\n",
    "        userDic[file] = goodMonths\n",
    "    \n",
    "    for i in list(userDic.keys()):\n",
    "        if len([j for j in months_to_check if j in userDic[i]]) == len(months_to_check):\n",
    "            goodUsers.append(i)\n",
    "    print(str(len(goodUsers)),\"/\",str(len(files)),\" Users fit the passed in criteria\")\n",
    "        \n",
    "        "
   ]
  },
  {
   "cell_type": "code",
   "execution_count": 65,
   "metadata": {},
   "outputs": [
    {
     "name": "stderr",
     "output_type": "stream",
     "text": [
      "<ipython-input-23-71fb16b53c72>:3: SettingWithCopyWarning: \n",
      "A value is trying to be set on a copy of a slice from a DataFrame.\n",
      "Try using .loc[row_indexer,col_indexer] = value instead\n",
      "\n",
      "See the caveats in the documentation: https://pandas.pydata.org/pandas-docs/stable/user_guide/indexing.html#returning-a-view-versus-a-copy\n",
      "  df_youtube_data_month['datetime'] = pd.to_datetime(df_youtube_data_month.datetime)\n"
     ]
    },
    {
     "name": "stdout",
     "output_type": "stream",
     "text": [
      "46 / 76  Users fit the passed in criteria\n"
     ]
    }
   ],
   "source": [
    "minEventCount = 10\n",
    "lastDateForFull = 20\n",
    "year = 2020\n",
    "months_to_check = [1,2,3]\n",
    "return_active_accounts(minEventCount,lastDateForFull,year,months_to_check)"
   ]
  },
  {
   "cell_type": "code",
   "execution_count": null,
   "metadata": {},
   "outputs": [],
   "source": [
    "minEventCount = 10\n",
    "lastDateForFull = 20\n",
    "year = 2020\n",
    "months_to_check = [1,2,3]\n",
    "return_active_accounts(minEventCount,lastDateForFull,year,months_to_check)"
   ]
  }
 ],
 "metadata": {
  "kernelspec": {
   "display_name": "Python 3",
   "language": "python",
   "name": "python3"
  },
  "language_info": {
   "codemirror_mode": {
    "name": "ipython",
    "version": 3
   },
   "file_extension": ".py",
   "mimetype": "text/x-python",
   "name": "python",
   "nbconvert_exporter": "python",
   "pygments_lexer": "ipython3",
   "version": "3.8.2"
  }
 },
 "nbformat": 4,
 "nbformat_minor": 4
}
