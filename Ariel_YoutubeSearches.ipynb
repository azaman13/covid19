{
 "cells": [
  {
   "cell_type": "code",
   "execution_count": 112,
   "metadata": {},
   "outputs": [],
   "source": [
    "import glob\n",
    "import pandas as pd\n",
    "import numpy as np\n",
    "import matplotlib.pyplot as plt\n",
    "import ast"
   ]
  },
  {
   "cell_type": "code",
   "execution_count": 143,
   "metadata": {},
   "outputs": [],
   "source": [
    "files = glob.glob('/Users/jane/Desktop/data-to-use/*.csv')"
   ]
  },
  {
   "cell_type": "code",
   "execution_count": 144,
   "metadata": {},
   "outputs": [],
   "source": [
    "def get_cat_name(string):\n",
    "    if string:\n",
    "        if type(string) != float:\n",
    "            content = ast.literal_eval(string)\n",
    "            if type(content) == list:\n",
    "                if len(content) != 0:\n",
    "                    cat_name = content[0]\n",
    "                    if type(content[0]) == list:\n",
    "                        cat_name = content[0][0].split('/')[1] \n",
    "                    return cat_name"
   ]
  },
  {
   "cell_type": "code",
   "execution_count": 180,
   "metadata": {},
   "outputs": [],
   "source": [
    "for f in files:\n",
    "    df = pd.read_csv(f)\n",
    "df.dropna(subset=['categories'], inplace=True)\n",
    "indexNames = df[df['categories'] == '[]'].index\n",
    "df.drop(indexNames, inplace=True)\n",
    "\n",
    "df_head()\n",
    "\n",
    "#Before and during COVID pandemic \n",
    "df_corona = df[(df['months']  >= 1) & (df['years']==2020)] \n",
    "df_before = df[(df['months']  <= 12) & (df['years']==2019)]\n",
    "\n",
    "df_totals = df_corona.groupby(['months', 'categories']).count().reset_index()\n",
    "renamed = df_totals.rename(columns={'Unnamed: 0':'total'})\n",
    "dropped = renamed[['months', 'categories', 'total']]\n",
    "\n",
    "df_totals_before = df_corona.groupby(['months', 'categories']).count().reset_index()\n",
    "before_renamed = df_totals_before.rename(columns={'Unnamed: 0':'total'})\n",
    "before_dropped = renamed[['months', 'categories', 'total']]  \n"
   ]
  },
  {
   "cell_type": "code",
   "execution_count": 182,
   "metadata": {},
   "outputs": [
    {
     "name": "stdout",
     "output_type": "stream",
     "text": [
      "     months                                         categories  total\n",
      "0         1                                         ['Comedy']     10\n",
      "1         1                                      ['Education']      4\n",
      "2         1                                  ['Entertainment']     90\n",
      "3         1                               ['Film & Animation']     11\n",
      "4         1                                         ['Gaming']      1\n",
      "5         1                                  ['Howto & Style']      9\n",
      "6         1                                          ['Music']    294\n",
      "7         1                                ['News & Politics']     14\n",
      "8         1                                 ['People & Blogs']     71\n",
      "9         1                                         ['Sports']     19\n",
      "10        1                                ['Travel & Events']      7\n",
      "11        1    [['/Arts & Entertainment', 0.5099999904632568]]      1\n",
      "12        1    [['/Arts & Entertainment', 0.5199999809265137]]      1\n",
      "13        1    [['/Arts & Entertainment', 0.5299999713897705]]      3\n",
      "14        1  [['/Arts & Entertainment', 0.5699999928474426]...      1\n",
      "15        1    [['/Arts & Entertainment', 0.5699999928474426]]      4\n",
      "16        1    [['/Arts & Entertainment', 0.5799999833106995]]      1\n",
      "17        1    [['/Arts & Entertainment', 0.5899999737739563]]      3\n",
      "18        1                   [['/Arts & Entertainment', 0.5]]      1\n",
      "19        1    [['/Arts & Entertainment', 0.6000000238418579]]      6\n",
      "20        1    [['/Arts & Entertainment', 0.6100000143051147]]      4\n",
      "21        1    [['/Arts & Entertainment', 0.6200000047683716]]      1\n",
      "22        1    [['/Arts & Entertainment', 0.6299999952316284]]      2\n",
      "23        1  [['/Arts & Entertainment', 0.6499999761581421]...      1\n",
      "24        1    [['/Arts & Entertainment', 0.6600000262260437]]      1\n",
      "25        1    [['/Arts & Entertainment', 0.6700000166893005]]      1\n",
      "26        1    [['/Arts & Entertainment', 0.6800000071525574]]      1\n",
      "27        1     [['/Arts & Entertainment', 0.800000011920929]]      1\n",
      "28        1  [['/Arts & Entertainment/Comics & Animation', ...      1\n",
      "29        1  [['/Arts & Entertainment/Fun & Trivia', 0.6700...      1\n",
      "..      ...                                                ...    ...\n",
      "708       3  [['/Hobbies & Leisure/Merit Prizes & Contests'...      1\n",
      "709       3  [['/Jobs & Education/Education/Colleges & Univ...      2\n",
      "710       3  [['/Law & Government/Public Safety/Law Enforce...      1\n",
      "711       3  [['/Law & Government/Public Safety/Law Enforce...      1\n",
      "712       3  [['/News/Sports News', 0.6499999761581421], ['...      1\n",
      "713       3  [['/News/Sports News', 0.7400000095367432], ['...      1\n",
      "714       3  [['/News/Sports News', 0.9599999785423279], ['...      2\n",
      "715       3       [['/Online Communities', 0.550000011920929]]      1\n",
      "716       3        [['/People & Society', 0.5799999833106995]]      1\n",
      "717       3  [['/People & Society/Social Sciences', 0.92000...      1\n",
      "718       3  [['/People & Society/Social Sciences', 0.93999...      1\n",
      "719       3           [['/Pets & Animals', 0.550000011920929]]      1\n",
      "720       3  [['/Pets & Animals/Pets/Horses', 0.87000000476...      1\n",
      "721       3  [['/Reference/General Reference/Dictionaries &...      1\n",
      "722       3  [['/Reference/General Reference/Time & Calenda...      1\n",
      "723       3  [['/Reference/General Reference/Time & Calenda...      1\n",
      "724       3  [['/Reference/Geographic Reference/Maps', 0.88...      1\n",
      "725       3      [['/Sensitive Subjects', 0.5199999809265137]]      1\n",
      "726       3                  [['/Sports', 0.5799999833106995]]      1\n",
      "727       3                  [['/Sports', 0.6200000047683716]]      1\n",
      "728       3  [['/Sports', 0.6700000166893005], ['/Hobbies &...      1\n",
      "729       3  [['/Sports', 0.7699999809265137], ['/Arts & En...      1\n",
      "730       3  [['/Sports', 0.9399999976158142], ['/News/Spor...      1\n",
      "731       3  [['/Sports/International Sports Competitions/O...      1\n",
      "732       3  [['/Sports/Team Sports/Cricket', 0.79000002145...      1\n",
      "733       3  [['/Sports/Team Sports/Cricket', 0.97000002861...      1\n",
      "734       3  [['/Sports/Team Sports/Cricket', 0.98000001907...      1\n",
      "735       3  [['/Sports/Team Sports/Soccer', 0.889999985694...      1\n",
      "736       3  [['/Sports/Team Sports/Soccer', 0.899999976158...      1\n",
      "737       3  [['/Sports/Team Sports/Soccer', 0.959999978542...      1\n",
      "\n",
      "[738 rows x 3 columns]\n"
     ]
    }
   ],
   "source": [
    "print(before_dropped)"
   ]
  },
  {
   "cell_type": "code",
   "execution_count": 183,
   "metadata": {},
   "outputs": [
    {
     "name": "stderr",
     "output_type": "stream",
     "text": [
      "/private/opt/anaconda2/lib/python2.7/site-packages/ipykernel_launcher.py:13: SettingWithCopyWarning: \n",
      "A value is trying to be set on a copy of a slice from a DataFrame.\n",
      "Try using .loc[row_indexer,col_indexer] = value instead\n",
      "\n",
      "See the caveats in the documentation: http://pandas.pydata.org/pandas-docs/stable/indexing.html#indexing-view-versus-copy\n",
      "  del sys.path[0]\n",
      "/private/opt/anaconda2/lib/python2.7/site-packages/ipykernel_launcher.py:15: SettingWithCopyWarning: \n",
      "A value is trying to be set on a copy of a slice from a DataFrame.\n",
      "Try using .loc[row_indexer,col_indexer] = value instead\n",
      "\n",
      "See the caveats in the documentation: http://pandas.pydata.org/pandas-docs/stable/indexing.html#indexing-view-versus-copy\n",
      "  from ipykernel import kernelapp as app\n"
     ]
    }
   ],
   "source": [
    "categories = dropped['categories'].to_list()\n",
    "before_categories = before_dropped['categories'].to_list()\n",
    "\n",
    "temp_lst = []\n",
    "before_temp_lst = []\n",
    "\n",
    "for e in categories:\n",
    "    temp_lst.append(get_cat_name(e))\n",
    "    \n",
    "for e in before_categories:\n",
    "    before_temp_lst.append(get_cat_name(e))\n",
    "    \n",
    "dropped['categories'] = temp_lst\n",
    "\n",
    "before_dropped['categories'] = before_temp_lst\n",
    "\n"
   ]
  },
  {
   "cell_type": "code",
   "execution_count": 184,
   "metadata": {},
   "outputs": [
    {
     "name": "stdout",
     "output_type": "stream",
     "text": [
      "     months            categories  total\n",
      "0         1                Comedy     10\n",
      "1         1             Education      4\n",
      "2         1         Entertainment     90\n",
      "3         1      Film & Animation     11\n",
      "4         1                Gaming      1\n",
      "5         1         Howto & Style      9\n",
      "6         1                 Music    294\n",
      "7         1       News & Politics     14\n",
      "8         1        People & Blogs     71\n",
      "9         1                Sports     19\n",
      "10        1       Travel & Events      7\n",
      "11        1  Arts & Entertainment      1\n",
      "12        1  Arts & Entertainment      1\n",
      "13        1  Arts & Entertainment      3\n",
      "14        1  Arts & Entertainment      1\n",
      "15        1  Arts & Entertainment      4\n",
      "16        1  Arts & Entertainment      1\n",
      "17        1  Arts & Entertainment      3\n",
      "18        1  Arts & Entertainment      1\n",
      "19        1  Arts & Entertainment      6\n",
      "20        1  Arts & Entertainment      4\n",
      "21        1  Arts & Entertainment      1\n",
      "22        1  Arts & Entertainment      2\n",
      "23        1  Arts & Entertainment      1\n",
      "24        1  Arts & Entertainment      1\n",
      "25        1  Arts & Entertainment      1\n",
      "26        1  Arts & Entertainment      1\n",
      "27        1  Arts & Entertainment      1\n",
      "28        1  Arts & Entertainment      1\n",
      "29        1  Arts & Entertainment      1\n",
      "..      ...                   ...    ...\n",
      "708       3     Hobbies & Leisure      1\n",
      "709       3      Jobs & Education      2\n",
      "710       3      Law & Government      1\n",
      "711       3      Law & Government      1\n",
      "712       3                  News      1\n",
      "713       3                  News      1\n",
      "714       3                  News      2\n",
      "715       3    Online Communities      1\n",
      "716       3      People & Society      1\n",
      "717       3      People & Society      1\n",
      "718       3      People & Society      1\n",
      "719       3        Pets & Animals      1\n",
      "720       3        Pets & Animals      1\n",
      "721       3             Reference      1\n",
      "722       3             Reference      1\n",
      "723       3             Reference      1\n",
      "724       3             Reference      1\n",
      "725       3    Sensitive Subjects      1\n",
      "726       3                Sports      1\n",
      "727       3                Sports      1\n",
      "728       3                Sports      1\n",
      "729       3                Sports      1\n",
      "730       3                Sports      1\n",
      "731       3                Sports      1\n",
      "732       3                Sports      1\n",
      "733       3                Sports      1\n",
      "734       3                Sports      1\n",
      "735       3                Sports      1\n",
      "736       3                Sports      1\n",
      "737       3                Sports      1\n",
      "\n",
      "[738 rows x 3 columns]\n"
     ]
    }
   ],
   "source": [
    "print(before_dropped)"
   ]
  },
  {
   "cell_type": "code",
   "execution_count": 186,
   "metadata": {},
   "outputs": [],
   "source": [
    "total_categories = dropped.groupby(['months', 'categories']).sum().reset_index()\n",
    "before_total_categories = before_dropped.groupby(['months', 'categories']).sum().reset_index()\n",
    "finished_df = total_categories.rename(columns={'total':'amount'})\n",
    "before_finished_df = before_total_categories.rename(columns={'total':'amount'})"
   ]
  },
  {
   "cell_type": "code",
   "execution_count": 192,
   "metadata": {},
   "outputs": [
    {
     "data": {
      "text/html": [
       "<div>\n",
       "<style scoped>\n",
       "    .dataframe tbody tr th:only-of-type {\n",
       "        vertical-align: middle;\n",
       "    }\n",
       "\n",
       "    .dataframe tbody tr th {\n",
       "        vertical-align: top;\n",
       "    }\n",
       "\n",
       "    .dataframe thead th {\n",
       "        text-align: right;\n",
       "    }\n",
       "</style>\n",
       "<table border=\"1\" class=\"dataframe\">\n",
       "  <thead>\n",
       "    <tr style=\"text-align: right;\">\n",
       "      <th></th>\n",
       "      <th>months</th>\n",
       "      <th>categories</th>\n",
       "      <th>amount</th>\n",
       "    </tr>\n",
       "  </thead>\n",
       "  <tbody>\n",
       "    <tr>\n",
       "      <th>0</th>\n",
       "      <td>1</td>\n",
       "      <td>Arts &amp; Entertainment</td>\n",
       "      <td>66</td>\n",
       "    </tr>\n",
       "    <tr>\n",
       "      <th>1</th>\n",
       "      <td>1</td>\n",
       "      <td>Beauty &amp; Fitness</td>\n",
       "      <td>1</td>\n",
       "    </tr>\n",
       "    <tr>\n",
       "      <th>2</th>\n",
       "      <td>1</td>\n",
       "      <td>Books &amp; Literature</td>\n",
       "      <td>2</td>\n",
       "    </tr>\n",
       "    <tr>\n",
       "      <th>3</th>\n",
       "      <td>1</td>\n",
       "      <td>Business &amp; Industrial</td>\n",
       "      <td>33</td>\n",
       "    </tr>\n",
       "    <tr>\n",
       "      <th>4</th>\n",
       "      <td>1</td>\n",
       "      <td>Comedy</td>\n",
       "      <td>10</td>\n",
       "    </tr>\n",
       "  </tbody>\n",
       "</table>\n",
       "</div>"
      ],
      "text/plain": [
       "   months             categories  amount\n",
       "0       1   Arts & Entertainment      66\n",
       "1       1       Beauty & Fitness       1\n",
       "2       1     Books & Literature       2\n",
       "3       1  Business & Industrial      33\n",
       "4       1                 Comedy      10"
      ]
     },
     "execution_count": 192,
     "metadata": {},
     "output_type": "execute_result"
    }
   ],
   "source": [
    "finished_df.head()"
   ]
  },
  {
   "cell_type": "code",
   "execution_count": 193,
   "metadata": {},
   "outputs": [],
   "source": [
    "arts = finished_df[finished_df['categories'] == 'Arts & Entertainment']\n",
    "before_arts = before_finished_df[before_finished_df['categories'] == 'Arts & Entertainment']"
   ]
  },
  {
   "cell_type": "code",
   "execution_count": 198,
   "metadata": {},
   "outputs": [
    {
     "data": {
      "image/png": "[encoded data removed]",
      "text/plain": [
       "<Figure size 432x288 with 1 Axes>"
      ]
     },
     "metadata": {
      "needs_background": "light"
     },
     "output_type": "display_data"
    }
   ],
   "source": [
    "plot1 = plt.plot(arts['months'], arts['amount'])"
   ]
  },
  {
   "cell_type": "code",
   "execution_count": 199,
   "metadata": {},
   "outputs": [
    {
     "data": {
      "image/png": "[encoded data removed]",
      "text/plain": [
       "<Figure size 432x288 with 1 Axes>"
      ]
     },
     "metadata": {
      "needs_background": "light"
     },
     "output_type": "display_data"
    }
   ],
   "source": [
    "plot2 = plt.plot(before_arts['months'], before_arts['amount'])\n"
   ]
  },
  {
   "cell_type": "code",
   "execution_count": null,
   "metadata": {},
   "outputs": [],
   "source": []
  }
 ],
 "metadata": {
  "kernelspec": {
   "display_name": "Python 2",
   "language": "python",
   "name": "python2"
  },
  "language_info": {
   "codemirror_mode": {
    "name": "ipython",
    "version": 2
   },
   "file_extension": ".py",
   "mimetype": "text/x-python",
   "name": "python",
   "nbconvert_exporter": "python",
   "pygments_lexer": "ipython2",
   "version": "2.7.16"
  }
 },
 "nbformat": 4,
 "nbformat_minor": 2
}
