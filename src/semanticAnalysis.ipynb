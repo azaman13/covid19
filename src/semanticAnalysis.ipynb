{
 "cells": [
  {
   "cell_type": "code",
   "execution_count": 36,
   "metadata": {},
   "outputs": [],
   "source": [
    "import glob\n",
    "import pandas as pd"
   ]
  },
  {
   "cell_type": "code",
   "execution_count": 37,
   "metadata": {},
   "outputs": [],
   "source": [
    "sdata = pd.read_csv('../data/survey_data/new_data/ready_survey_data_jul_16.csv')\n",
    "\n",
    "pre_covid_files = glob.glob('/home/anis/fall2019/data/campus-2nd-round-processed/processed/search+youtube/*.csv')\n",
    "last_year_data = glob.glob('/home/anis/fall2019/data/campus-processed/search+youtube/*.csv')\n",
    "post_covid_data = glob.glob('/home/anis/summer2020-Data/processed/search+youtube_v4/*.csv')"
   ]
  },
  {
   "cell_type": "code",
   "execution_count": 47,
   "metadata": {},
   "outputs": [],
   "source": [
    "first_round_sid_to_online_data = {}\n",
    "for i in last_year_data:\n",
    "    if '37c39358e9c0f6_' not in i and not 'NoName' in i and not 'unknown' in i :\n",
    "        name = i.split('/')[-1]\n",
    "        random, survey_code = name.split('_')\n",
    "        sid = survey_code.split('-')[0]\n",
    "\n",
    "        if sid != 'unknown' and sid != 'NoName':\n",
    "            sid = int(sid)\n",
    "\n",
    "        first_round_sid_to_online_data[sid] = i"
   ]
  },
  {
   "cell_type": "code",
   "execution_count": 48,
   "metadata": {},
   "outputs": [],
   "source": [
    "second_round_sid_to_online_data = {}\n",
    "for i in pre_covid_files:\n",
    "    name = i.split('/')[-1]\n",
    "    sid = int(name.split('_')[0])\n",
    "    second_round_sid_to_online_data[sid] = i"
   ]
  },
  {
   "cell_type": "code",
   "execution_count": 49,
   "metadata": {},
   "outputs": [],
   "source": [
    "third_round_sid_to_online_data = {}\n",
    "for i in post_covid_data:\n",
    "    name = i.split('/')[-1]\n",
    "    sid = int(name.split('_')[0])\n",
    "    third_round_sid_to_online_data[sid] = i\n",
    "\n"
   ]
  },
  {
   "cell_type": "code",
   "execution_count": 51,
   "metadata": {},
   "outputs": [
    {
     "data": {
      "text/plain": [
       "{64: '/home/anis/fall2019/data/campus-2nd-round-processed/processed/search+youtube/64_97.csv',\n",
       " 47: '/home/anis/fall2019/data/campus-2nd-round-processed/processed/search+youtube/47_102.csv',\n",
       " 65: '/home/anis/fall2019/data/campus-2nd-round-processed/processed/search+youtube/65_31.csv',\n",
       " 22: '/home/anis/fall2019/data/campus-2nd-round-processed/processed/search+youtube/22_35.csv',\n",
       " 32: '/home/anis/fall2019/data/campus-2nd-round-processed/processed/search+youtube/32_30.csv',\n",
       " 27: '/home/anis/fall2019/data/campus-2nd-round-processed/processed/search+youtube/27_26.csv',\n",
       " 9: '/home/anis/fall2019/data/campus-2nd-round-processed/processed/search+youtube/9_0.csv',\n",
       " 33: '/home/anis/fall2019/data/campus-2nd-round-processed/processed/search+youtube/33_87.csv',\n",
       " 2: '/home/anis/fall2019/data/campus-2nd-round-processed/processed/search+youtube/2_15.csv',\n",
       " 76: '/home/anis/fall2019/data/campus-2nd-round-processed/processed/search+youtube/76_90.csv',\n",
       " 67: '/home/anis/fall2019/data/campus-2nd-round-processed/processed/search+youtube/67_72.csv',\n",
       " 8: '/home/anis/fall2019/data/campus-2nd-round-processed/processed/search+youtube/8_20.csv',\n",
       " 35: '/home/anis/fall2019/data/campus-2nd-round-processed/processed/search+youtube/35_94.csv',\n",
       " 83: '/home/anis/fall2019/data/campus-2nd-round-processed/processed/search+youtube/83_0.csv',\n",
       " 16: '/home/anis/fall2019/data/campus-2nd-round-processed/processed/search+youtube/16_14.csv',\n",
       " 11: '/home/anis/fall2019/data/campus-2nd-round-processed/processed/search+youtube/11_19.csv',\n",
       " 74: '/home/anis/fall2019/data/campus-2nd-round-processed/processed/search+youtube/74_42.csv',\n",
       " 6: '/home/anis/fall2019/data/campus-2nd-round-processed/processed/search+youtube/6_5.csv',\n",
       " 70: '/home/anis/fall2019/data/campus-2nd-round-processed/processed/search+youtube/70_83.csv',\n",
       " 28: '/home/anis/fall2019/data/campus-2nd-round-processed/processed/search+youtube/28_96.csv',\n",
       " 43: '/home/anis/fall2019/data/campus-2nd-round-processed/processed/search+youtube/43_53.csv',\n",
       " 81: '/home/anis/fall2019/data/campus-2nd-round-processed/processed/search+youtube/81_67.csv',\n",
       " 24: '/home/anis/fall2019/data/campus-2nd-round-processed/processed/search+youtube/24_100.csv',\n",
       " 77: '/home/anis/fall2019/data/campus-2nd-round-processed/processed/search+youtube/77_52.csv',\n",
       " 50: '/home/anis/fall2019/data/campus-2nd-round-processed/processed/search+youtube/50_23.csv',\n",
       " 53: '/home/anis/fall2019/data/campus-2nd-round-processed/processed/search+youtube/53_98.csv',\n",
       " 79: '/home/anis/fall2019/data/campus-2nd-round-processed/processed/search+youtube/79_81.csv',\n",
       " 57: '/home/anis/fall2019/data/campus-2nd-round-processed/processed/search+youtube/57_28.csv',\n",
       " 23: '/home/anis/fall2019/data/campus-2nd-round-processed/processed/search+youtube/23_93.csv',\n",
       " 41: '/home/anis/fall2019/data/campus-2nd-round-processed/processed/search+youtube/41_59.csv',\n",
       " 84: '/home/anis/fall2019/data/campus-2nd-round-processed/processed/search+youtube/84_18.csv',\n",
       " 68: '/home/anis/fall2019/data/campus-2nd-round-processed/processed/search+youtube/68_84.csv',\n",
       " 5: '/home/anis/fall2019/data/campus-2nd-round-processed/processed/search+youtube/5_95.csv',\n",
       " 72: '/home/anis/fall2019/data/campus-2nd-round-processed/processed/search+youtube/72_29.csv',\n",
       " 10: '/home/anis/fall2019/data/campus-2nd-round-processed/processed/search+youtube/10_0.csv',\n",
       " 1: '/home/anis/fall2019/data/campus-2nd-round-processed/processed/search+youtube/1_17.csv',\n",
       " 15: '/home/anis/fall2019/data/campus-2nd-round-processed/processed/search+youtube/15_11.csv',\n",
       " 34: '/home/anis/fall2019/data/campus-2nd-round-processed/processed/search+youtube/34_101.csv',\n",
       " 17: '/home/anis/fall2019/data/campus-2nd-round-processed/processed/search+youtube/17_37.csv',\n",
       " 26: '/home/anis/fall2019/data/campus-2nd-round-processed/processed/search+youtube/26_68.csv',\n",
       " 69: '/home/anis/fall2019/data/campus-2nd-round-processed/processed/search+youtube/69_50.csv',\n",
       " 4: '/home/anis/fall2019/data/campus-2nd-round-processed/processed/search+youtube/4_0.csv',\n",
       " 58: '/home/anis/fall2019/data/campus-2nd-round-processed/processed/search+youtube/58_25.csv',\n",
       " 14: '/home/anis/fall2019/data/campus-2nd-round-processed/processed/search+youtube/14_0.csv',\n",
       " 48: '/home/anis/fall2019/data/campus-2nd-round-processed/processed/search+youtube/48_74.csv',\n",
       " 62: '/home/anis/fall2019/data/campus-2nd-round-processed/processed/search+youtube/62_58.csv',\n",
       " 61: '/home/anis/fall2019/data/campus-2nd-round-processed/processed/search+youtube/61_92.csv',\n",
       " 36: '/home/anis/fall2019/data/campus-2nd-round-processed/processed/search+youtube/36_69.csv',\n",
       " 44: '/home/anis/fall2019/data/campus-2nd-round-processed/processed/search+youtube/44_46.csv',\n",
       " 39: '/home/anis/fall2019/data/campus-2nd-round-processed/processed/search+youtube/39_105.csv',\n",
       " 49: '/home/anis/fall2019/data/campus-2nd-round-processed/processed/search+youtube/49_12.csv',\n",
       " 45: '/home/anis/fall2019/data/campus-2nd-round-processed/processed/search+youtube/45_75.csv',\n",
       " 66: '/home/anis/fall2019/data/campus-2nd-round-processed/processed/search+youtube/66_89.csv',\n",
       " 7: '/home/anis/fall2019/data/campus-2nd-round-processed/processed/search+youtube/7_0.csv',\n",
       " 25: '/home/anis/fall2019/data/campus-2nd-round-processed/processed/search+youtube/25_78.csv',\n",
       " 63: '/home/anis/fall2019/data/campus-2nd-round-processed/processed/search+youtube/63_34.csv',\n",
       " 56: '/home/anis/fall2019/data/campus-2nd-round-processed/processed/search+youtube/56_64.csv',\n",
       " 40: '/home/anis/fall2019/data/campus-2nd-round-processed/processed/search+youtube/40_47.csv',\n",
       " 3: '/home/anis/fall2019/data/campus-2nd-round-processed/processed/search+youtube/3_0.csv',\n",
       " 19: '/home/anis/fall2019/data/campus-2nd-round-processed/processed/search+youtube/19_73.csv',\n",
       " 78: '/home/anis/fall2019/data/campus-2nd-round-processed/processed/search+youtube/78_21.csv',\n",
       " 29: '/home/anis/fall2019/data/campus-2nd-round-processed/processed/search+youtube/29_54.csv',\n",
       " 30: '/home/anis/fall2019/data/campus-2nd-round-processed/processed/search+youtube/30_8.csv',\n",
       " 54: '/home/anis/fall2019/data/campus-2nd-round-processed/processed/search+youtube/54_88.csv',\n",
       " 18: '/home/anis/fall2019/data/campus-2nd-round-processed/processed/search+youtube/18_38.csv',\n",
       " 37: '/home/anis/fall2019/data/campus-2nd-round-processed/processed/search+youtube/37_45.csv',\n",
       " 55: '/home/anis/fall2019/data/campus-2nd-round-processed/processed/search+youtube/55_13.csv',\n",
       " 51: '/home/anis/fall2019/data/campus-2nd-round-processed/processed/search+youtube/51_32.csv',\n",
       " 38: '/home/anis/fall2019/data/campus-2nd-round-processed/processed/search+youtube/38_36.csv',\n",
       " 59: '/home/anis/fall2019/data/campus-2nd-round-processed/processed/search+youtube/59_33.csv',\n",
       " 42: '/home/anis/fall2019/data/campus-2nd-round-processed/processed/search+youtube/42_39.csv',\n",
       " 60: '/home/anis/fall2019/data/campus-2nd-round-processed/processed/search+youtube/60_86.csv',\n",
       " 20: '/home/anis/fall2019/data/campus-2nd-round-processed/processed/search+youtube/20_65.csv',\n",
       " 31: '/home/anis/fall2019/data/campus-2nd-round-processed/processed/search+youtube/31_63.csv',\n",
       " 75: '/home/anis/fall2019/data/campus-2nd-round-processed/processed/search+youtube/75_85.csv',\n",
       " 71: '/home/anis/fall2019/data/campus-2nd-round-processed/processed/search+youtube/71_3.csv',\n",
       " 46: '/home/anis/fall2019/data/campus-2nd-round-processed/processed/search+youtube/46_16.csv',\n",
       " 82: '/home/anis/fall2019/data/campus-2nd-round-processed/processed/search+youtube/82_0.csv'}"
      ]
     },
     "execution_count": 51,
     "metadata": {},
     "output_type": "execute_result"
    }
   ],
   "source": [
    "second_round_sid_to_online_data"
   ]
  },
  {
   "cell_type": "code",
   "execution_count": 5,
   "metadata": {},
   "outputs": [],
   "source": [
    "columns = sdata.columns.tolist()"
   ]
  },
  {
   "cell_type": "code",
   "execution_count": 7,
   "metadata": {},
   "outputs": [
    {
     "name": "stdout",
     "output_type": "stream",
     "text": [
      "record_id                                      1\n",
      "sid_during_covid                               1\n",
      "sid_pre_covid                                 22\n",
      "sid_2019                                      35\n",
      "fall_gad7_score                                8\n",
      "                                              ..\n",
      "academic_perf_didnt_change_due_to_covid        1\n",
      "use_rec_substances_frequently_before_covid     0\n",
      "smoke_frequently_before_covid                  0\n",
      "practice_healthy_living_before_lockdown        1\n",
      "practice_improve_spirit_before_lockdown        1\n",
      "Name: 0, Length: 75, dtype: object\n"
     ]
    }
   ],
   "source": [
    "for index, row in sdata.iterrows():\n",
    "    print(row)\n",
    "    break"
   ]
  },
  {
   "cell_type": "code",
   "execution_count": 30,
   "metadata": {},
   "outputs": [
    {
     "data": {
      "text/plain": [
       "{51: '/home/anis/fall2019/data/campus-processed/search+youtube/37cc311a993902_51-c-1.csv',\n",
       " 26: '/home/anis/fall2019/data/campus-processed/search+youtube/37c6bdd2c6b802_26-c-1.csv',\n",
       " 18: '/home/anis/fall2019/data/campus-processed/search+youtube/37c69d1779ae0a_18-c-1.csv',\n",
       " 25: '/home/anis/fall2019/data/campus-processed/search+youtube/37c6b7a07b3732_25-c-1.csv',\n",
       " 34: '/home/anis/fall2019/data/campus-processed/search+youtube/37c786aad90920_34-c-1.csv',\n",
       " 80: '/home/anis/fall2019/data/campus-processed/search+youtube/80000000000_80-c-1.csv',\n",
       " 42: '/home/anis/fall2019/data/campus-processed/search+youtube/37c858c89fda12_42-c-1.csv',\n",
       " 16: '/home/anis/fall2019/data/campus-processed/search+youtube/37c5f26c3b2004_16-c-1.csv',\n",
       " 69: '/home/anis/fall2019/data/campus-processed/search+youtube/699999999999_69-c-1.csv',\n",
       " 31: '/home/anis/fall2019/data/campus-processed/search+youtube/37c76e97111df8_31-c-1.csv',\n",
       " 'unknown': '/home/anis/fall2019/data/campus-processed/search+youtube/37c39358e9c0f6_unknown-c-1.csv',\n",
       " 10: '/home/anis/fall2019/data/campus-processed/search+youtube/37c5c93e44a446_10-c-1.csv',\n",
       " 22: '/home/anis/fall2019/data/campus-processed/search+youtube/37c6a62e48eada_22-c-1.csv',\n",
       " 41: '/home/anis/fall2019/data/campus-processed/search+youtube/37c8558b29dfe4_41-c-1.csv',\n",
       " 12: '/home/anis/fall2019/data/campus-processed/search+youtube/37c5dd31a5b31c_12-c-1.csv',\n",
       " 91: '/home/anis/fall2019/data/campus-processed/search+youtube/91111111111_91-c-1.csv',\n",
       " 64: '/home/anis/fall2019/data/campus-processed/search+youtube/64444444444_64-c-1.csv',\n",
       " 49: '/home/anis/fall2019/data/campus-processed/search+youtube/37cb5e7c94eb64_49-c-1.csv',\n",
       " 63: '/home/anis/fall2019/data/campus-processed/search+youtube/6333333333333_63-c-1.csv',\n",
       " 79: '/home/anis/fall2019/data/campus-processed/search+youtube/79999999999_79-c-1.csv',\n",
       " 40: '/home/anis/fall2019/data/campus-processed/search+youtube/37c850cdffdcf4_40-c-1.csv',\n",
       " 81: '/home/anis/fall2019/data/campus-processed/search+youtube/81111111111_81-c-1.csv',\n",
       " 84: '/home/anis/fall2019/data/campus-processed/search+youtube/84444444444_84-c-1.csv',\n",
       " 27: '/home/anis/fall2019/data/campus-processed/search+youtube/37c6c384dbde7a_27-c-1.csv',\n",
       " 58: '/home/anis/fall2019/data/campus-processed/search+youtube/37cdcd1ab813ea_58-c-1.csv',\n",
       " 73: '/home/anis/fall2019/data/campus-processed/search+youtube/73333333333_73-c-1.csv',\n",
       " 104: '/home/anis/fall2019/data/campus-processed/search+youtube/104_104-c-1.csv',\n",
       " 88: '/home/anis/fall2019/data/campus-processed/search+youtube/88888888888_88-c-1.csv',\n",
       " 77: '/home/anis/fall2019/data/campus-processed/search+youtube/77777777777_77-c-1.csv',\n",
       " 65: '/home/anis/fall2019/data/campus-processed/search+youtube/655555555555555_65-c-1.csv',\n",
       " 102: '/home/anis/fall2019/data/campus-processed/search+youtube/102222222222_102-c-1.csv',\n",
       " 105: '/home/anis/fall2019/data/campus-processed/search+youtube/105_105-c-1.csv',\n",
       " 1: '/home/anis/fall2019/data/campus-processed/search+youtube/37c2a1b9d1ed80_1-c-1.csv',\n",
       " 92: '/home/anis/fall2019/data/campus-processed/search+youtube/92222222222_92-c-1.csv',\n",
       " 46: '/home/anis/fall2019/data/campus-processed/search+youtube/37cb44b806d9b6_46-c-1.csv',\n",
       " 20: '/home/anis/fall2019/data/campus-processed/search+youtube/37c6a515f7e7aa_20-c-1.csv',\n",
       " 52: '/home/anis/fall2019/data/campus-processed/search+youtube/37cc39a43b1c2a_52-c-1.csv',\n",
       " 30: '/home/anis/fall2019/data/campus-processed/search+youtube/37c76a45996cb8_30-c-1.csv',\n",
       " 44: '/home/anis/fall2019/data/campus-processed/search+youtube/37c8fca9ec7e5e_44-c-1.csv',\n",
       " 3: '/home/anis/fall2019/data/campus-processed/search+youtube/37c3791c7201c4_3-c-1.csv',\n",
       " 8: '/home/anis/fall2019/data/campus-processed/search+youtube/37c3877d180f48_8-c-1.csv',\n",
       " 38: '/home/anis/fall2019/data/campus-processed/search+youtube/37c84577b95fce_38-c-1.csv',\n",
       " 90: '/home/anis/fall2019/data/campus-processed/search+youtube/90000000000_90-c-1.csv',\n",
       " 59: '/home/anis/fall2019/data/campus-processed/search+youtube/37cdcd7250f908_59-c-1.csv',\n",
       " 23: '/home/anis/fall2019/data/campus-processed/search+youtube/37c6a9e3244328_23-c-1.csv',\n",
       " 101: '/home/anis/fall2019/data/campus-processed/search+youtube/10111111111_101-c-1.csv',\n",
       " 11: '/home/anis/fall2019/data/campus-processed/search+youtube/37c5d8115e3d8a_11-c-1.csv',\n",
       " 83: '/home/anis/fall2019/data/campus-processed/search+youtube/83333333333_83-c-1.csv',\n",
       " 21: '/home/anis/fall2019/data/campus-processed/search+youtube/37c6a5cd827c56_21-c-1.csv',\n",
       " 48: '/home/anis/fall2019/data/campus-processed/search+youtube/37cb5c5d674362_48-c-1.csv',\n",
       " 97: '/home/anis/fall2019/data/campus-processed/search+youtube/97777777777_97-c-1.csv',\n",
       " 2: '/home/anis/fall2019/data/campus-processed/search+youtube/37c2a4035b8826_2-c-1.csv',\n",
       " 62: '/home/anis/fall2019/data/campus-processed/search+youtube/6222222222222_62-c-1.csv',\n",
       " 66: '/home/anis/fall2019/data/campus-processed/search+youtube/66666666666666_66-c-1.csv',\n",
       " 86: '/home/anis/fall2019/data/campus-processed/search+youtube/86666666666_86-c-1.csv',\n",
       " 'NoName': '/home/anis/fall2019/data/campus-processed/search+youtube/37c39358e9c0f6_NoName-c-1.csv',\n",
       " 54: '/home/anis/fall2019/data/campus-processed/search+youtube/37777777_54-c-1.csv',\n",
       " 28: '/home/anis/fall2019/data/campus-processed/search+youtube/37c6c46bf8e14c_28-c-1.csv',\n",
       " 100: '/home/anis/fall2019/data/campus-processed/search+youtube/10000000000_100-c-1.csv',\n",
       " 33: '/home/anis/fall2019/data/campus-processed/search+youtube/37c785a98d16de_33-c-1.csv',\n",
       " 68: '/home/anis/fall2019/data/campus-processed/search+youtube/688888888888_68-c-1.csv',\n",
       " 103: '/home/anis/fall2019/data/campus-processed/search+youtube/103_103-c-1.csv',\n",
       " 60: '/home/anis/fall2019/data/campus-processed/search+youtube/600000000000000_60-c-1.csv',\n",
       " 6: '/home/anis/fall2019/data/campus-processed/search+youtube/37c3823ed08d04_6-c-1.csv',\n",
       " 24: '/home/anis/fall2019/data/campus-processed/search+youtube/37c6b281edfa2e_24-c-1.csv',\n",
       " 35: '/home/anis/fall2019/data/campus-processed/search+youtube/37c82ad4a38ba4_35-c-1.csv',\n",
       " 36: '/home/anis/fall2019/data/campus-processed/search+youtube/37c82ac4a5176c_36-c-1.csv',\n",
       " 96: '/home/anis/fall2019/data/campus-processed/search+youtube/96666666666_96-c-1.csv',\n",
       " 17: '/home/anis/fall2019/data/campus-processed/search+youtube/37c5fd635f81a8_17-c-1.csv',\n",
       " 95: '/home/anis/fall2019/data/campus-processed/search+youtube/95555555555_95-c-1.csv',\n",
       " 76: '/home/anis/fall2019/data/campus-processed/search+youtube/76666666666_76-c-1.csv',\n",
       " 85: '/home/anis/fall2019/data/campus-processed/search+youtube/85555555555_85-c-1.csv',\n",
       " 67: '/home/anis/fall2019/data/campus-processed/search+youtube/6777777777777_67-c-1.csv',\n",
       " 53: '/home/anis/fall2019/data/campus-processed/search+youtube/533333333_53-c-1.csv',\n",
       " 98: '/home/anis/fall2019/data/campus-processed/search+youtube/98888888888_98-c-1.csv',\n",
       " 43: '/home/anis/fall2019/data/campus-processed/search+youtube/37c8f95358a818_43-c-1.csv',\n",
       " 37: '/home/anis/fall2019/data/campus-processed/search+youtube/37c84461764baa_37-c-1.csv',\n",
       " 75: '/home/anis/fall2019/data/campus-processed/search+youtube/75555555555_75-c-1.csv',\n",
       " 13: '/home/anis/fall2019/data/campus-processed/search+youtube/37c5e3120050c2_13-c-1.csv',\n",
       " 50: '/home/anis/fall2019/data/campus-processed/search+youtube/37cc2931d47a58_50-c-1.csv',\n",
       " 47: '/home/anis/fall2019/data/campus-processed/search+youtube/37cb51511fa408_47-c-1.csv',\n",
       " 71: '/home/anis/fall2019/data/campus-processed/search+youtube/7111111111111_71-c-1.csv',\n",
       " 89: '/home/anis/fall2019/data/campus-processed/search+youtube/89999999999_89-c-1.csv',\n",
       " 55: '/home/anis/fall2019/data/campus-processed/search+youtube/37cdb28983287e_55-c-1.csv',\n",
       " 61: '/home/anis/fall2019/data/campus-processed/search+youtube/37d1a2f5fca5da_61-c-1.csv',\n",
       " 5: '/home/anis/fall2019/data/campus-processed/search+youtube/37c37e09147e50_5-c-1.csv',\n",
       " 19: '/home/anis/fall2019/data/campus-processed/search+youtube/37c6a1c695ce00_19-c-1.csv',\n",
       " 39: '/home/anis/fall2019/data/campus-processed/search+youtube/37c84c72af7cd0_39-c-1.csv',\n",
       " 72: '/home/anis/fall2019/data/campus-processed/search+youtube/72222222222_72-c-1.csv',\n",
       " 78: '/home/anis/fall2019/data/campus-processed/search+youtube/78888888888_78-c-1.csv',\n",
       " 29: '/home/anis/fall2019/data/campus-processed/search+youtube/37c7592d4799b8_29-c-1.csv',\n",
       " 94: '/home/anis/fall2019/data/campus-processed/search+youtube/94444444444_94-c-1.csv',\n",
       " 57: '/home/anis/fall2019/data/campus-processed/search+youtube/37cdc13471ce7e_57-c-1.csv',\n",
       " 14: '/home/anis/fall2019/data/campus-processed/search+youtube/37c5e80767ce9a_14-c-1.csv',\n",
       " 56: '/home/anis/fall2019/data/campus-processed/search+youtube/37cdc134e299f8_56-c-1.csv',\n",
       " 4: '/home/anis/fall2019/data/campus-processed/search+youtube/37c37d7e844444_4-c-1.csv',\n",
       " 32: '/home/anis/fall2019/data/campus-processed/search+youtube/37c783956245e4_32-c-1.csv',\n",
       " 70: '/home/anis/fall2019/data/campus-processed/search+youtube/700000000000_70-c-1.csv',\n",
       " 74: '/home/anis/fall2019/data/campus-processed/search+youtube/74444444444_74-c-1.csv',\n",
       " 87: '/home/anis/fall2019/data/campus-processed/search+youtube/87777777777_87-c-1.csv',\n",
       " 15: '/home/anis/fall2019/data/campus-processed/search+youtube/37c5eb74a978e6_15-c-1.csv'}"
      ]
     },
     "execution_count": 30,
     "metadata": {},
     "output_type": "execute_result"
    }
   ],
   "source": [
    "fall_sid_data_map"
   ]
  },
  {
   "cell_type": "code",
   "execution_count": null,
   "metadata": {},
   "outputs": [],
   "source": []
  }
 ],
 "metadata": {
  "kernelspec": {
   "display_name": "Python 3",
   "language": "python",
   "name": "python3"
  },
  "language_info": {
   "codemirror_mode": {
    "name": "ipython",
    "version": 3
   },
   "file_extension": ".py",
   "mimetype": "text/x-python",
   "name": "python",
   "nbconvert_exporter": "python",
   "pygments_lexer": "ipython3",
   "version": "3.7.6"
  }
 },
 "nbformat": 4,
 "nbformat_minor": 4
}
